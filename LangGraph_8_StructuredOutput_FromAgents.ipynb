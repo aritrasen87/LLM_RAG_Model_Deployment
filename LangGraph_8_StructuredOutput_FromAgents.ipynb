{
  "nbformat": 4,
  "nbformat_minor": 0,
  "metadata": {
    "colab": {
      "provenance": [],
      "authorship_tag": "ABX9TyPFHFop4KPklQWaZ95v8HD4",
      "include_colab_link": true
    },
    "kernelspec": {
      "name": "python3",
      "display_name": "Python 3"
    },
    "language_info": {
      "name": "python"
    }
  },
  "cells": [
    {
      "cell_type": "markdown",
      "metadata": {
        "id": "view-in-github",
        "colab_type": "text"
      },
      "source": [
        "<a href=\"https://colab.research.google.com/github/aritrasen87/LLM_RAG_Model_Deployment/blob/main/LangGraph_8_StructuredOutput_FromAgents.ipynb\" target=\"_parent\"><img src=\"https://colab.research.google.com/assets/colab-badge.svg\" alt=\"Open In Colab\"/></a>"
      ]
    },
    {
      "cell_type": "code",
      "source": [
        "#required installations\n",
        "! pip install langgraph langchain_community --q\n",
        "! pip install langchain_openai --q"
      ],
      "metadata": {
        "id": "Ip2uBnLwFi5s"
      },
      "execution_count": null,
      "outputs": []
    },
    {
      "cell_type": "code",
      "source": [
        "# Key and llm initialization\n",
        "import os\n",
        "from google.colab import userdata\n",
        "from langchain_openai import ChatOpenAI\n",
        "\n",
        "# Now you can access your environment variables using os.environ\n",
        "os.environ['OPENAI_API_KEY'] = userdata.get('OPENAI_KEY')\n",
        "os.environ['TAVILY_API_KEY'] = userdata.get('TAVILY')\n",
        "\n",
        "llm = ChatOpenAI(model=\"gpt-4o-mini\")"
      ],
      "metadata": {
        "id": "58EmHNGFGJuQ"
      },
      "execution_count": null,
      "outputs": []
    },
    {
      "cell_type": "code",
      "source": [
        "# Tavily tool initialization\n",
        "from langchain_community.tools.tavily_search import TavilySearchResults\n",
        "from langchain_core.tools import tool\n",
        "\n",
        "tavily_tool = TavilySearchResults(max_results=5)"
      ],
      "metadata": {
        "id": "W5MfNSwjFdnd"
      },
      "execution_count": null,
      "outputs": []
    },
    {
      "cell_type": "code",
      "execution_count": null,
      "metadata": {
        "id": "2fIgkrVUDiZz"
      },
      "outputs": [],
      "source": [
        "from pydantic import BaseModel, Field\n",
        "from typing import  Literal\n",
        "from langchain_core.tools import tool\n",
        "from langgraph.graph import MessagesState\n",
        "\n",
        "# Pydantic object for structed output\n",
        "class CityDetails(BaseModel):\n",
        "    \"\"\"Respond to the user with this\"\"\"\n",
        "    state_name: str = Field(description=\"State name of the city\")\n",
        "    state_capital: str = Field(description=\"State capital of the city\")\n",
        "    country_name: str = Field(description=\"Country name of the city\")\n",
        "    country_capital: str = Field(description=\"Country capital of the city\")\n",
        "\n",
        "\n",
        "# Inherit 'messages' key from MessagesState, which is a list of chat messages\n",
        "class AgentState(MessagesState):\n",
        "    # Final structured response from the agent\n",
        "    final_response: CityDetails\n",
        "\n",
        "# Python function to tool creation\n",
        "@tool\n",
        "def get_city_details(prompt):\n",
        "    \"Should do a web search to find the required city details\"\n",
        "    response = tavily_tool.invoke(prompt)\n",
        "    return response\n",
        "\n",
        "tools = [get_city_details]\n",
        "\n",
        "# two LLM models\n",
        "model_with_tools = llm.bind_tools(tools)\n",
        "model_with_structured_output = llm.with_structured_output(CityDetails)"
      ]
    },
    {
      "cell_type": "code",
      "source": [
        "from langgraph.graph import StateGraph, END\n",
        "from langgraph.prebuilt import ToolNode\n",
        "from langchain_core.messages import HumanMessage\n",
        "\n",
        "# Define the function that calls the model\n",
        "def call_model(state: AgentState):\n",
        "    response = model_with_tools.invoke(state['messages'])\n",
        "    # We return a list, because this will get added to the existing list\n",
        "    return {\"messages\": [response]}\n",
        "\n",
        "# Define the function that responds to the user\n",
        "def respond(state: AgentState):\n",
        "    response = model_with_structured_output.invoke([HumanMessage(content=state['messages'][-2].content)])\n",
        "    # We return the final answer\n",
        "    return {\"final_response\": response}\n",
        "\n",
        "# Define the function that determines whether to continue or not\n",
        "def should_continue(state: AgentState):\n",
        "    messages = state[\"messages\"]\n",
        "    last_message = messages[-1]\n",
        "    # If there is no function call, then we respond to the user\n",
        "    if not last_message.tool_calls:\n",
        "        return \"respond\"\n",
        "    # Otherwise if there is, we continue\n",
        "    else:\n",
        "        return \"continue\"\n",
        "\n",
        "# Define a new graph\n",
        "workflow = StateGraph(AgentState)\n",
        "\n",
        "# Define the two nodes we will cycle between\n",
        "workflow.add_node(\"agent\", call_model)\n",
        "workflow.add_node(\"respond\", respond)\n",
        "workflow.add_node(\"tools\", ToolNode(tools))\n",
        "\n",
        "# Set the entrypoint as `agent`\n",
        "# This means that this node is the first one called\n",
        "workflow.set_entry_point(\"agent\")\n",
        "\n",
        "# We now add a conditional edge\n",
        "workflow.add_conditional_edges(\n",
        "    \"agent\",\n",
        "    should_continue,\n",
        "    {\n",
        "        \"continue\": \"tools\",\n",
        "        \"respond\": \"respond\",\n",
        "    },\n",
        ")\n",
        "\n",
        "workflow.add_edge(\"tools\", \"agent\")\n",
        "workflow.add_edge(\"respond\", END)\n",
        "graph = workflow.compile()"
      ],
      "metadata": {
        "id": "UMKVZUxxIlDN"
      },
      "execution_count": null,
      "outputs": []
    },
    {
      "cell_type": "code",
      "source": [
        "from IPython.display import Image, display\n",
        "# View\n",
        "display(Image(graph.get_graph().draw_mermaid_png()))"
      ],
      "metadata": {
        "colab": {
          "base_uri": "https://localhost:8080/",
          "height": 374
        },
        "id": "WO-VcJynX7WY",
        "outputId": "11333d0f-9589-4a93-ddba-dd81a8e7549e"
      },
      "execution_count": null,
      "outputs": [
        {
          "output_type": "display_data",
          "data": {
            "image/jpeg": "[encoded data removed]",
            "text/plain": [
              "<IPython.core.display.Image object>"
            ]
          },
          "metadata": {}
        }
      ]
    },
    {
      "cell_type": "code",
      "source": [
        "answer = graph.invoke(input={\"messages\": [(\"human\", \"Tell me about the city details for Kolkata?\")]})['final_response']"
      ],
      "metadata": {
        "id": "xB1OlvaEKy9V"
      },
      "execution_count": null,
      "outputs": []
    },
    {
      "cell_type": "code",
      "source": [
        "answer"
      ],
      "metadata": {
        "colab": {
          "base_uri": "https://localhost:8080/"
        },
        "id": "mLzvYFL4LJhO",
        "outputId": "6e13ccfc-fc15-42de-a432-53b6f8a5f723"
      },
      "execution_count": null,
      "outputs": [
        {
          "output_type": "execute_result",
          "data": {
            "text/plain": [
              "CityDetails(state_name='West Bengal', state_capital='Kolkata', country_name='India', country_capital='New Delhi')"
            ]
          },
          "metadata": {},
          "execution_count": 20
        }
      ]
    },
    {
      "cell_type": "code",
      "source": [
        "for s in graph.stream({\n",
        "        \"messages\": [HumanMessage(content=\"Tell me about the city details for Kolkata?\")]\n",
        "    }\n",
        "):\n",
        "    if \"__end__\" not in s:\n",
        "        print(s)\n",
        "        print(\"----\")"
      ],
      "metadata": {
        "colab": {
          "base_uri": "https://localhost:8080/"
        },
        "id": "TgmPL3sVLM5J",
        "outputId": "5786d3b0-f895-4a8f-bc62-f0de9a4faa97"
      },
      "execution_count": null,
      "outputs": [
        {
          "output_type": "stream",
          "name": "stdout",
          "text": [
            "{'agent': {'messages': [AIMessage(content='', additional_kwargs={'tool_calls': [{'id': 'call_gxxvXonYq3LU9tvcHHyljXlZ', 'function': {'arguments': '{\"prompt\":\"Kolkata\"}', 'name': 'get_city_details'}, 'type': 'function'}], 'refusal': None}, response_metadata={'token_usage': {'completion_tokens': 17, 'prompt_tokens': 59, 'total_tokens': 76, 'completion_tokens_details': {'reasoning_tokens': 0}}, 'model_name': 'gpt-4o-mini-2024-07-18', 'system_fingerprint': 'fp_483d39d857', 'finish_reason': 'tool_calls', 'logprobs': None}, id='run-6dae51cb-145c-404b-8369-3d82da930665-0', tool_calls=[{'name': 'get_city_details', 'args': {'prompt': 'Kolkata'}, 'id': 'call_gxxvXonYq3LU9tvcHHyljXlZ', 'type': 'tool_call'}], usage_metadata={'input_tokens': 59, 'output_tokens': 17, 'total_tokens': 76})]}}\n",
            "----\n",
            "{'tools': {'messages': [ToolMessage(content='[{\"url\": \"https://www.britannica.com/place/Kolkata\", \"content\": \"Kolkata (formerly Calcutta), city, capital of West Bengal state, and former capital (1772-1911) of British India. It is one of India\\'s largest cities and one of its major ports. The city is centered on the east bank of the Hugli River, about 96 miles upstream from the head of the Bay of Bengal.\"}, {\"url\": \"https://www.lonelyplanet.com/india/kolkata-calcutta\", \"content\": \"Kolkata (Calcutta) India\\'s third-largest city is a daily festival of human existence, simultaneously noble and squalid, cultured and desperate, decidedly futuristic though still in transition. By its old spelling, Calcutta readily conjures images of human suffering to most Westerners - although that\\'s not a complete picture of this 330-year ...\"}, {\"url\": \"https://www.tripsavvy.com/things-to-do-in-kolkata-5112681\", \"content\": \"Kolkata (formerly Calcutta), more than anything, is an emotion, and one that people find difficult to put into words. The capital of British India from 1772 to 1911, and now the capital of West Bengal state, Kolkata blends its history under British rule with its Bengali roots and the influence of immigrant communities.These top things to do in Kolkata will connect you to the heart and soul of ...\"}, {\"url\": \"https://www.britannica.com/place/Kolkata/Cultural-life\", \"content\": \"Kolkata - Culture, Arts, Cuisine: Kolkata is perhaps the most important cultural centre of India. The city is the birthplace of modern Indian literary and artistic thought and of Indian nationalism, and its citizens have made great efforts to preserve Indian culture and civilization. The blending of Eastern and Western cultural influences over the centuries has stimulated the creation of ...\"}, {\"url\": \"https://www.outlooktraveller.com/destinations/india/city-guide-all-about-kolkata-the-city-of-joy\", \"content\": \"Kolkata, the City of Joy, radiates an indomitable spirit that intertwines history, art, and literature.The capital of West Bengal beckons with its colonial-era architecture, bustling markets, and a cultural landscape that has nurtured Nobel laureates and literary giants.From the iconic Howrah Bridge to the intellectual haven of College Street, every corner of Kolkata tells a story, inviting ...\"}]', name='get_city_details', tool_call_id='call_gxxvXonYq3LU9tvcHHyljXlZ')]}}\n",
            "----\n",
            "{'agent': {'messages': [AIMessage(content=\"Kolkata, formerly known as Calcutta, is a vibrant city located in the state of West Bengal, India. It served as the capital of British India from 1772 to 1911 and is now the capital of West Bengal. Here are some key details about the city:\\n\\n1. **Geography**: Kolkata is situated on the eastern bank of the Hugli River, approximately 96 miles upstream from the Bay of Bengal. It is one of India's largest cities and serves as a major port.\\n\\n2. **Cultural Significance**: Kolkata is often considered the cultural capital of India. It has a rich history of arts and literature, blending Eastern and Western influences. The city is known for its contributions to modern Indian literary and artistic thought and is the birthplace of Indian nationalism.\\n\\n3. **Historical Context**: The city's history is deeply intertwined with British colonialism, which has left a lasting impact on its architecture and urban layout. The colonial-era structures are a significant part of Kolkata's charm.\\n\\n4. **Local Life**: Kolkata is described as a daily festival of human existence, showcasing a mix of nobility and squalor, culture and desperation. The city's vibrancy is evident in its bustling markets, historic landmarks, and the lively spirit of its inhabitants.\\n\\n5. **Attractions**: Some iconic attractions in Kolkata include the Howrah Bridge, College Street (known for its bookstores), and various cultural institutions that celebrate the city's rich heritage.\\n\\nFor more detailed information, you can explore the following links:\\n- [Britannica - Kolkata](https://www.britannica.com/place/Kolkata)\\n- [Lonely Planet - Kolkata](https://www.lonelyplanet.com/india/kolkata-calcutta)\\n- [TripSavvy - Things to Do in Kolkata](https://www.tripsavvy.com/things-to-do-in-kolkata-5112681)\\n- [Outlook Traveller - City Guide to Kolkata](https://www.outlooktraveller.com/destinations/india/city-guide-all-about-kolkata-the-city-of-joy)\", additional_kwargs={'refusal': None}, response_metadata={'token_usage': {'completion_tokens': 424, 'prompt_tokens': 596, 'total_tokens': 1020, 'completion_tokens_details': {'reasoning_tokens': 0}}, 'model_name': 'gpt-4o-mini-2024-07-18', 'system_fingerprint': 'fp_54e2f484be', 'finish_reason': 'stop', 'logprobs': None}, id='run-952b880f-7da1-4850-a29a-a3f4fa4fd0ab-0', usage_metadata={'input_tokens': 596, 'output_tokens': 424, 'total_tokens': 1020})]}}\n",
            "----\n",
            "{'respond': {'final_response': CityDetails(state_name='West Bengal', state_capital='Kolkata', country_name='India', country_capital='New Delhi')}}\n",
            "----\n"
          ]
        }
      ]
    }
  ]
}