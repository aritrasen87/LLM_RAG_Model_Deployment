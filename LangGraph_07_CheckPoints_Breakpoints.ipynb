{
  "nbformat": 4,
  "nbformat_minor": 0,
  "metadata": {
    "colab": {
      "provenance": [],
      "authorship_tag": "ABX9TyMmSozPms1wnWeoEJe3jQU4",
      "include_colab_link": true
    },
    "kernelspec": {
      "name": "python3",
      "display_name": "Python 3"
    },
    "language_info": {
      "name": "python"
    }
  },
  "cells": [
    {
      "cell_type": "markdown",
      "metadata": {
        "id": "view-in-github",
        "colab_type": "text"
      },
      "source": [
        "<a href=\"https://colab.research.google.com/github/aritrasen87/LLM_RAG_Model_Deployment/blob/main/LangGraph_07_CheckPoints_Breakpoints.ipynb\" target=\"_parent\"><img src=\"https://colab.research.google.com/assets/colab-badge.svg\" alt=\"Open In Colab\"/></a>"
      ]
    },
    {
      "cell_type": "markdown",
      "source": [
        "Source: https://langchain-ai.github.io/langgraph/how-tos/human_in_the_loop/breakpoints/\n",
        "\n",
        "**Breakpoints** are a common HIL interaction pattern, allowing the graph to\n",
        "stop at specific steps and seek human approval before proceeding.\n",
        "\n",
        "Breakpoints are built on top of LangGraph **checkpoints**, which save the graph's state after each node execution.\n",
        "\n",
        "Checkpoints are saved in **threads** that preserve graph state and can be accessed after a graph has finished execution.\n",
        "\n",
        "Benefits:\n",
        "\n",
        "- Graph execution to pause at specific points\n",
        "- Await human approval\n",
        "- Resume execution from the last checkpoint."
      ],
      "metadata": {
        "id": "mgs9EN3SRzFX"
      }
    },
    {
      "cell_type": "code",
      "execution_count": null,
      "metadata": {
        "id": "3pODaDlxRMlP",
        "outputId": "96469602-5bd3-41f8-b2db-4408cdfcc570",
        "colab": {
          "base_uri": "https://localhost:8080/"
        }
      },
      "outputs": [
        {
          "output_type": "stream",
          "name": "stdout",
          "text": [
            "\u001b[2K     \u001b[90m━━━━━━━━━━━━━━━━━━━━━━━━━━━━━━━━━━━━━━━━\u001b[0m \u001b[32m50.4/50.4 kB\u001b[0m \u001b[31m537.5 kB/s\u001b[0m eta \u001b[36m0:00:00\u001b[0m\n",
            "\u001b[2K   \u001b[90m━━━━━━━━━━━━━━━━━━━━━━━━━━━━━━━━━━━━━━━━\u001b[0m \u001b[32m97.1/97.1 kB\u001b[0m \u001b[31m3.9 MB/s\u001b[0m eta \u001b[36m0:00:00\u001b[0m\n",
            "\u001b[2K   \u001b[90m━━━━━━━━━━━━━━━━━━━━━━━━━━━━━━━━━━━━━━━━\u001b[0m \u001b[32m2.3/2.3 MB\u001b[0m \u001b[31m27.0 MB/s\u001b[0m eta \u001b[36m0:00:00\u001b[0m\n",
            "\u001b[2K   \u001b[90m━━━━━━━━━━━━━━━━━━━━━━━━━━━━━━━━━━━━━━━━\u001b[0m \u001b[32m1.0/1.0 MB\u001b[0m \u001b[31m7.1 MB/s\u001b[0m eta \u001b[36m0:00:00\u001b[0m\n",
            "\u001b[2K   \u001b[90m━━━━━━━━━━━━━━━━━━━━━━━━━━━━━━━━━━━━━━━━\u001b[0m \u001b[32m396.4/396.4 kB\u001b[0m \u001b[31m14.5 MB/s\u001b[0m eta \u001b[36m0:00:00\u001b[0m\n",
            "\u001b[2K   \u001b[90m━━━━━━━━━━━━━━━━━━━━━━━━━━━━━━━━━━━━━━━━\u001b[0m \u001b[32m290.4/290.4 kB\u001b[0m \u001b[31m12.6 MB/s\u001b[0m eta \u001b[36m0:00:00\u001b[0m\n",
            "\u001b[2K   \u001b[90m━━━━━━━━━━━━━━━━━━━━━━━━━━━━━━━━━━━━━━━━\u001b[0m \u001b[32m76.4/76.4 kB\u001b[0m \u001b[31m3.7 MB/s\u001b[0m eta \u001b[36m0:00:00\u001b[0m\n",
            "\u001b[2K   \u001b[90m━━━━━━━━━━━━━━━━━━━━━━━━━━━━━━━━━━━━━━━━\u001b[0m \u001b[32m77.9/77.9 kB\u001b[0m \u001b[31m3.1 MB/s\u001b[0m eta \u001b[36m0:00:00\u001b[0m\n",
            "\u001b[2K   \u001b[90m━━━━━━━━━━━━━━━━━━━━━━━━━━━━━━━━━━━━━━━━\u001b[0m \u001b[32m49.3/49.3 kB\u001b[0m \u001b[31m804.7 kB/s\u001b[0m eta \u001b[36m0:00:00\u001b[0m\n",
            "\u001b[2K   \u001b[90m━━━━━━━━━━━━━━━━━━━━━━━━━━━━━━━━━━━━━━━━\u001b[0m \u001b[32m141.9/141.9 kB\u001b[0m \u001b[31m5.7 MB/s\u001b[0m eta \u001b[36m0:00:00\u001b[0m\n",
            "\u001b[2K   \u001b[90m━━━━━━━━━━━━━━━━━━━━━━━━━━━━━━━━━━━━━━━━\u001b[0m \u001b[32m58.3/58.3 kB\u001b[0m \u001b[31m2.9 MB/s\u001b[0m eta \u001b[36m0:00:00\u001b[0m\n",
            "\u001b[2K   \u001b[90m━━━━━━━━━━━━━━━━━━━━━━━━━━━━━━━━━━━━━━━━\u001b[0m \u001b[32m52.0/52.0 kB\u001b[0m \u001b[31m3.4 MB/s\u001b[0m eta \u001b[36m0:00:00\u001b[0m\n",
            "\u001b[2K   \u001b[90m━━━━━━━━━━━━━━━━━━━━━━━━━━━━━━━━━━━━━━━━\u001b[0m \u001b[32m367.8/367.8 kB\u001b[0m \u001b[31m15.7 MB/s\u001b[0m eta \u001b[36m0:00:00\u001b[0m\n",
            "\u001b[2K   \u001b[90m━━━━━━━━━━━━━━━━━━━━━━━━━━━━━━━━━━━━━━━━\u001b[0m \u001b[32m1.1/1.1 MB\u001b[0m \u001b[31m33.0 MB/s\u001b[0m eta \u001b[36m0:00:00\u001b[0m\n",
            "\u001b[2K   \u001b[90m━━━━━━━━━━━━━━━━━━━━━━━━━━━━━━━━━━━━━━━━\u001b[0m \u001b[32m318.9/318.9 kB\u001b[0m \u001b[31m17.7 MB/s\u001b[0m eta \u001b[36m0:00:00\u001b[0m\n",
            "\u001b[?25h"
          ]
        }
      ],
      "source": [
        "! pip install langgraph langchain_community --q\n",
        "! pip install langchain_openai --q"
      ]
    },
    {
      "cell_type": "code",
      "source": [
        "from typing import TypedDict, Annotated, Sequence\n",
        "from langgraph.graph import StateGraph, START, END\n",
        "from langgraph.checkpoint.memory import MemorySaver\n",
        "from IPython.display import Image, display\n",
        "from langgraph.graph.message import add_messages\n",
        "import operator\n",
        "\n",
        "\n",
        "\n",
        "class State(TypedDict):\n",
        "    messages: Annotated[list, operator.add]"
      ],
      "metadata": {
        "id": "MXPnHpN5TpVn"
      },
      "execution_count": null,
      "outputs": []
    },
    {
      "cell_type": "code",
      "source": [
        "def function_1(state):\n",
        "    return {'messages' :  [\" First Function \"]}\n",
        "\n",
        "def function_2(state):\n",
        "    return {'messages' : [\" 2nd Function \"]}\n",
        "\n",
        "def function_3(state):\n",
        "    return {'messages' : [\" 3rd Function \"]}"
      ],
      "metadata": {
        "id": "TpIUro39T6Qy"
      },
      "execution_count": null,
      "outputs": []
    },
    {
      "cell_type": "code",
      "source": [
        "graph = StateGraph(State)\n",
        "graph.add_node(\"step_1\", function_1)\n",
        "graph.add_node(\"step_2\", function_2)\n",
        "graph.add_node(\"step_3\", function_3)\n",
        "graph.add_edge(START, \"step_1\")\n",
        "graph.add_edge(\"step_1\", \"step_2\")\n",
        "graph.add_edge(\"step_2\", \"step_3\")\n",
        "graph.add_edge(\"step_3\", END)\n",
        "\n",
        "# Set up memory\n",
        "memory = MemorySaver()\n",
        "\n",
        "# Add\n",
        "graph = graph.compile(checkpointer=memory, interrupt_before=[\"step_3\"])"
      ],
      "metadata": {
        "id": "JVNVPre8UZnb"
      },
      "execution_count": null,
      "outputs": []
    },
    {
      "cell_type": "code",
      "source": [
        "# View\n",
        "display(Image(graph.get_graph().draw_mermaid_png()))"
      ],
      "metadata": {
        "colab": {
          "base_uri": "https://localhost:8080/",
          "height": 491
        },
        "id": "8MiWQiXxU19z",
        "outputId": "ea2584fa-dbd9-40da-9d99-d750be5c4be0"
      },
      "execution_count": null,
      "outputs": [
        {
          "output_type": "display_data",
          "data": {
            "image/jpeg": "[encoded data removed]",
            "text/plain": [
              "<IPython.core.display.Image object>"
            ]
          },
          "metadata": {}
        }
      ]
    },
    {
      "cell_type": "code",
      "source": [
        "# Input\n",
        "initial_input = {\"messages\": [\"hello langgraph\"]}\n",
        "\n",
        "# Thread\n",
        "thread = {\"configurable\": {\"thread_id\": \"1\"}}\n",
        "\n",
        "# Run the graph until the first interruption\n",
        "for event in graph.stream(initial_input, thread, stream_mode=\"values\"):\n",
        "    print(event)"
      ],
      "metadata": {
        "colab": {
          "base_uri": "https://localhost:8080/"
        },
        "id": "M0sy7bcHVENy",
        "outputId": "be108ecb-8645-4be6-8529-3f683e09cd43"
      },
      "execution_count": null,
      "outputs": [
        {
          "output_type": "stream",
          "name": "stdout",
          "text": [
            "{'messages': ['hello langgraph']}\n",
            "{'messages': ['hello langgraph', ' First Function ']}\n",
            "{'messages': ['hello langgraph', ' First Function ', ' 2nd Function ']}\n"
          ]
        }
      ]
    },
    {
      "cell_type": "code",
      "source": [
        "snapshot = graph.get_state(thread)\n",
        "snapshot.next"
      ],
      "metadata": {
        "colab": {
          "base_uri": "https://localhost:8080/"
        },
        "id": "xqnLcPcVZMPn",
        "outputId": "8cb66bc9-5cf0-4255-fa33-f35ecd72f9b2"
      },
      "execution_count": null,
      "outputs": [
        {
          "output_type": "execute_result",
          "data": {
            "text/plain": [
              "('step_3',)"
            ]
          },
          "metadata": {},
          "execution_count": 7
        }
      ]
    },
    {
      "cell_type": "code",
      "source": [
        "thread = {\"configurable\": {\"thread_id\": \"11\"}}\n",
        "\n",
        "for event in graph.stream(None, thread, stream_mode=\"values\"):\n",
        "        print(event)"
      ],
      "metadata": {
        "colab": {
          "base_uri": "https://localhost:8080/",
          "height": 352
        },
        "id": "QDLlUhdNVYuA",
        "outputId": "6809e4f0-9aa5-457e-c301-3a59662223e7"
      },
      "execution_count": null,
      "outputs": [
        {
          "output_type": "error",
          "ename": "EmptyInputError",
          "evalue": "Received no input for __start__",
          "traceback": [
            "\u001b[0;31m---------------------------------------------------------------------------\u001b[0m",
            "\u001b[0;31mEmptyInputError\u001b[0m                           Traceback (most recent call last)",
            "\u001b[0;32m<ipython-input-8-9da6ec9f624a>\u001b[0m in \u001b[0;36m<cell line: 3>\u001b[0;34m()\u001b[0m\n\u001b[1;32m      1\u001b[0m \u001b[0mthread\u001b[0m \u001b[0;34m=\u001b[0m \u001b[0;34m{\u001b[0m\u001b[0;34m\"configurable\"\u001b[0m\u001b[0;34m:\u001b[0m \u001b[0;34m{\u001b[0m\u001b[0;34m\"thread_id\"\u001b[0m\u001b[0;34m:\u001b[0m \u001b[0;34m\"11\"\u001b[0m\u001b[0;34m}\u001b[0m\u001b[0;34m}\u001b[0m\u001b[0;34m\u001b[0m\u001b[0;34m\u001b[0m\u001b[0m\n\u001b[1;32m      2\u001b[0m \u001b[0;34m\u001b[0m\u001b[0m\n\u001b[0;32m----> 3\u001b[0;31m \u001b[0;32mfor\u001b[0m \u001b[0mevent\u001b[0m \u001b[0;32min\u001b[0m \u001b[0mgraph\u001b[0m\u001b[0;34m.\u001b[0m\u001b[0mstream\u001b[0m\u001b[0;34m(\u001b[0m\u001b[0;32mNone\u001b[0m\u001b[0;34m,\u001b[0m \u001b[0mthread\u001b[0m\u001b[0;34m,\u001b[0m \u001b[0mstream_mode\u001b[0m\u001b[0;34m=\u001b[0m\u001b[0;34m\"values\"\u001b[0m\u001b[0;34m)\u001b[0m\u001b[0;34m:\u001b[0m\u001b[0;34m\u001b[0m\u001b[0;34m\u001b[0m\u001b[0m\n\u001b[0m\u001b[1;32m      4\u001b[0m         \u001b[0mprint\u001b[0m\u001b[0;34m(\u001b[0m\u001b[0mevent\u001b[0m\u001b[0;34m)\u001b[0m\u001b[0;34m\u001b[0m\u001b[0;34m\u001b[0m\u001b[0m\n",
            "\u001b[0;32m/usr/local/lib/python3.10/dist-packages/langgraph/pregel/__init__.py\u001b[0m in \u001b[0;36mstream\u001b[0;34m(self, input, config, stream_mode, output_keys, interrupt_before, interrupt_after, debug, subgraphs)\u001b[0m\n\u001b[1;32m   1213\u001b[0m                 \u001b[0;31m# channels are guaranteed to be immutable for the duration of the step,\u001b[0m\u001b[0;34m\u001b[0m\u001b[0;34m\u001b[0m\u001b[0m\n\u001b[1;32m   1214\u001b[0m                 \u001b[0;31m# with channel updates applied only at the transition between steps\u001b[0m\u001b[0;34m\u001b[0m\u001b[0;34m\u001b[0m\u001b[0m\n\u001b[0;32m-> 1215\u001b[0;31m                 while loop.tick(\n\u001b[0m\u001b[1;32m   1216\u001b[0m                     \u001b[0minput_keys\u001b[0m\u001b[0;34m=\u001b[0m\u001b[0mself\u001b[0m\u001b[0;34m.\u001b[0m\u001b[0minput_channels\u001b[0m\u001b[0;34m,\u001b[0m\u001b[0;34m\u001b[0m\u001b[0;34m\u001b[0m\u001b[0m\n\u001b[1;32m   1217\u001b[0m                     \u001b[0minterrupt_before\u001b[0m\u001b[0;34m=\u001b[0m\u001b[0minterrupt_before\u001b[0m\u001b[0;34m,\u001b[0m\u001b[0;34m\u001b[0m\u001b[0;34m\u001b[0m\u001b[0m\n",
            "\u001b[0;32m/usr/local/lib/python3.10/dist-packages/langgraph/pregel/loop.py\u001b[0m in \u001b[0;36mtick\u001b[0;34m(self, input_keys, interrupt_after, interrupt_before, manager)\u001b[0m\n\u001b[1;32m    244\u001b[0m \u001b[0;34m\u001b[0m\u001b[0m\n\u001b[1;32m    245\u001b[0m         \u001b[0;32mif\u001b[0m \u001b[0mself\u001b[0m\u001b[0;34m.\u001b[0m\u001b[0minput\u001b[0m \u001b[0;32mnot\u001b[0m \u001b[0;32min\u001b[0m \u001b[0;34m(\u001b[0m\u001b[0mINPUT_DONE\u001b[0m\u001b[0;34m,\u001b[0m \u001b[0mINPUT_RESUMING\u001b[0m\u001b[0;34m)\u001b[0m\u001b[0;34m:\u001b[0m\u001b[0;34m\u001b[0m\u001b[0;34m\u001b[0m\u001b[0m\n\u001b[0;32m--> 246\u001b[0;31m             \u001b[0mself\u001b[0m\u001b[0;34m.\u001b[0m\u001b[0m_first\u001b[0m\u001b[0;34m(\u001b[0m\u001b[0minput_keys\u001b[0m\u001b[0;34m=\u001b[0m\u001b[0minput_keys\u001b[0m\u001b[0;34m)\u001b[0m\u001b[0;34m\u001b[0m\u001b[0;34m\u001b[0m\u001b[0m\n\u001b[0m\u001b[1;32m    247\u001b[0m         \u001b[0;32melif\u001b[0m \u001b[0mall\u001b[0m\u001b[0;34m(\u001b[0m\u001b[0mtask\u001b[0m\u001b[0;34m.\u001b[0m\u001b[0mwrites\u001b[0m \u001b[0;32mfor\u001b[0m \u001b[0mtask\u001b[0m \u001b[0;32min\u001b[0m \u001b[0mself\u001b[0m\u001b[0;34m.\u001b[0m\u001b[0mtasks\u001b[0m\u001b[0;34m.\u001b[0m\u001b[0mvalues\u001b[0m\u001b[0;34m(\u001b[0m\u001b[0;34m)\u001b[0m\u001b[0;34m)\u001b[0m\u001b[0;34m:\u001b[0m\u001b[0;34m\u001b[0m\u001b[0;34m\u001b[0m\u001b[0m\n\u001b[1;32m    248\u001b[0m             \u001b[0mwrites\u001b[0m \u001b[0;34m=\u001b[0m \u001b[0;34m[\u001b[0m\u001b[0mw\u001b[0m \u001b[0;32mfor\u001b[0m \u001b[0mt\u001b[0m \u001b[0;32min\u001b[0m \u001b[0mself\u001b[0m\u001b[0;34m.\u001b[0m\u001b[0mtasks\u001b[0m\u001b[0;34m.\u001b[0m\u001b[0mvalues\u001b[0m\u001b[0;34m(\u001b[0m\u001b[0;34m)\u001b[0m \u001b[0;32mfor\u001b[0m \u001b[0mw\u001b[0m \u001b[0;32min\u001b[0m \u001b[0mt\u001b[0m\u001b[0;34m.\u001b[0m\u001b[0mwrites\u001b[0m\u001b[0;34m]\u001b[0m\u001b[0;34m\u001b[0m\u001b[0;34m\u001b[0m\u001b[0m\n",
            "\u001b[0;32m/usr/local/lib/python3.10/dist-packages/langgraph/pregel/loop.py\u001b[0m in \u001b[0;36m_first\u001b[0;34m(self, input_keys)\u001b[0m\n\u001b[1;32m    425\u001b[0m             \u001b[0mself\u001b[0m\u001b[0;34m.\u001b[0m\u001b[0m_put_checkpoint\u001b[0m\u001b[0;34m(\u001b[0m\u001b[0;34m{\u001b[0m\u001b[0;34m\"source\"\u001b[0m\u001b[0;34m:\u001b[0m \u001b[0;34m\"input\"\u001b[0m\u001b[0;34m,\u001b[0m \u001b[0;34m\"writes\"\u001b[0m\u001b[0;34m:\u001b[0m \u001b[0mdict\u001b[0m\u001b[0;34m(\u001b[0m\u001b[0minput_writes\u001b[0m\u001b[0;34m)\u001b[0m\u001b[0;34m}\u001b[0m\u001b[0;34m)\u001b[0m\u001b[0;34m\u001b[0m\u001b[0;34m\u001b[0m\u001b[0m\n\u001b[1;32m    426\u001b[0m         \u001b[0;32melse\u001b[0m\u001b[0;34m:\u001b[0m\u001b[0;34m\u001b[0m\u001b[0;34m\u001b[0m\u001b[0m\n\u001b[0;32m--> 427\u001b[0;31m             \u001b[0;32mraise\u001b[0m \u001b[0mEmptyInputError\u001b[0m\u001b[0;34m(\u001b[0m\u001b[0;34mf\"Received no input for {input_keys}\"\u001b[0m\u001b[0;34m)\u001b[0m\u001b[0;34m\u001b[0m\u001b[0;34m\u001b[0m\u001b[0m\n\u001b[0m\u001b[1;32m    428\u001b[0m         \u001b[0;31m# done with input\u001b[0m\u001b[0;34m\u001b[0m\u001b[0;34m\u001b[0m\u001b[0m\n\u001b[1;32m    429\u001b[0m         \u001b[0mself\u001b[0m\u001b[0;34m.\u001b[0m\u001b[0minput\u001b[0m \u001b[0;34m=\u001b[0m \u001b[0mINPUT_RESUMING\u001b[0m \u001b[0;32mif\u001b[0m \u001b[0mis_resuming\u001b[0m \u001b[0;32melse\u001b[0m \u001b[0mINPUT_DONE\u001b[0m\u001b[0;34m\u001b[0m\u001b[0;34m\u001b[0m\u001b[0m\n",
            "\u001b[0;31mEmptyInputError\u001b[0m: Received no input for __start__"
          ]
        }
      ]
    },
    {
      "cell_type": "code",
      "source": [
        "thread = {\"configurable\": {\"thread_id\": \"1\"}}\n",
        "\n",
        "for event in graph.stream(None, thread, stream_mode=\"values\"):\n",
        "        print(event)"
      ],
      "metadata": {
        "colab": {
          "base_uri": "https://localhost:8080/"
        },
        "id": "7F41fysAZAJO",
        "outputId": "c779a382-5ad4-439b-e891-71183fd5251b"
      },
      "execution_count": null,
      "outputs": [
        {
          "output_type": "stream",
          "name": "stdout",
          "text": [
            "{'messages': ['hello langgraph', ' First Function ', ' 2nd Function ']}\n",
            "{'messages': ['hello langgraph', ' First Function ', ' 2nd Function ', ' 3rd Function ']}\n"
          ]
        }
      ]
    },
    {
      "cell_type": "code",
      "source": [
        "snapshot = graph.get_state(thread)\n",
        "snapshot.next"
      ],
      "metadata": {
        "colab": {
          "base_uri": "https://localhost:8080/"
        },
        "id": "8uKtWuzKZETP",
        "outputId": "911df9b7-3d76-46f3-b29c-de341cf9b0b7"
      },
      "execution_count": null,
      "outputs": [
        {
          "output_type": "execute_result",
          "data": {
            "text/plain": [
              "()"
            ]
          },
          "metadata": {},
          "execution_count": 10
        }
      ]
    },
    {
      "cell_type": "markdown",
      "source": [
        "CheckwithPoint + Breakpoint with Toolcalling"
      ],
      "metadata": {
        "id": "QGCuhGa7bWi_"
      }
    },
    {
      "cell_type": "code",
      "source": [
        "! pip install langgraph-checkpoint-sqlite --q"
      ],
      "metadata": {
        "id": "7tyiUjV_c8sW"
      },
      "execution_count": null,
      "outputs": []
    },
    {
      "cell_type": "code",
      "source": [
        "import os\n",
        "from google.colab import userdata\n",
        "from langchain_openai import ChatOpenAI\n",
        "\n",
        "# Now you can access your environment variables using os.environ\n",
        "os.environ['OPENAI_API_KEY'] = userdata.get('OPENAI_KEY')\n",
        "os.environ['TAVILY_API_KEY'] = userdata.get('TAVILY')\n",
        "\n",
        "llm = ChatOpenAI(model=\"gpt-4o-mini\")"
      ],
      "metadata": {
        "id": "l59NOkmibzvH"
      },
      "execution_count": null,
      "outputs": []
    },
    {
      "cell_type": "code",
      "source": [
        "class State(TypedDict):\n",
        "    messages: Annotated[list, add_messages]"
      ],
      "metadata": {
        "id": "qVyRnIvtZypJ"
      },
      "execution_count": null,
      "outputs": []
    },
    {
      "cell_type": "code",
      "source": [
        "from langchain_community.tools.tavily_search import TavilySearchResults\n",
        "from langchain_openai import ChatOpenAI\n",
        "from typing_extensions import TypedDict\n",
        "\n",
        "from langgraph.checkpoint.sqlite import SqliteSaver\n",
        "from langgraph.graph import StateGraph\n",
        "from langgraph.graph.message import add_messages\n",
        "from langgraph.prebuilt import ToolNode, tools_condition\n",
        "\n",
        "# memory = SqliteSaver.from_conn_string(\":memory:\")\n",
        "# Set up memory\n",
        "memory = MemorySaver()\n",
        "\n",
        "graph = StateGraph(State)\n",
        "\n",
        "tool = TavilySearchResults(max_results=2)\n",
        "tools = [tool]\n",
        "llm_with_tools = llm.bind_tools(tools)"
      ],
      "metadata": {
        "id": "YNx-v1JTbeMr"
      },
      "execution_count": null,
      "outputs": []
    },
    {
      "cell_type": "code",
      "source": [
        "llm_with_tools.invoke('Hi')"
      ],
      "metadata": {
        "colab": {
          "base_uri": "https://localhost:8080/"
        },
        "id": "J6oX45zVjvoK",
        "outputId": "b9f5fc77-6015-4e8f-ceff-d549968dd48e"
      },
      "execution_count": null,
      "outputs": [
        {
          "output_type": "execute_result",
          "data": {
            "text/plain": [
              "AIMessage(content='Hello! How can I assist you today?', additional_kwargs={'refusal': None}, response_metadata={'token_usage': {'completion_tokens': 10, 'prompt_tokens': 80, 'total_tokens': 90}, 'model_name': 'gpt-4o-mini-2024-07-18', 'system_fingerprint': 'fp_483d39d857', 'finish_reason': 'stop', 'logprobs': None}, id='run-9c243ba8-2f59-413d-9807-f9bdbd2a5a69-0', usage_metadata={'input_tokens': 80, 'output_tokens': 10, 'total_tokens': 90})"
            ]
          },
          "metadata": {},
          "execution_count": 15
        }
      ]
    },
    {
      "cell_type": "code",
      "source": [
        "def Agent(state: State):\n",
        "    print('---> Starting Agent----->')\n",
        "    return {\"messages\": [llm_with_tools.invoke(state[\"messages\"])]}\n",
        "\n",
        "tool_node = ToolNode(tools=[tool])"
      ],
      "metadata": {
        "id": "5ukwumm9dHib"
      },
      "execution_count": null,
      "outputs": []
    },
    {
      "cell_type": "code",
      "source": [
        "graph.add_node(\"Agent\", Agent)\n",
        "graph.add_node(\"tools\", tool_node)\n",
        "\n",
        "graph.add_conditional_edges(\n",
        "    \"Agent\",\n",
        "    tools_condition,\n",
        ")\n",
        "graph.add_edge(\"tools\", \"Agent\")\n",
        "graph.set_entry_point(\"Agent\")"
      ],
      "metadata": {
        "id": "Xz1FlZ7QdPSe"
      },
      "execution_count": null,
      "outputs": []
    },
    {
      "cell_type": "code",
      "source": [
        "app = graph.compile(checkpointer=memory,interrupt_before=[\"tools\"])"
      ],
      "metadata": {
        "id": "pFXQdKy-doXw"
      },
      "execution_count": null,
      "outputs": []
    },
    {
      "cell_type": "code",
      "source": [
        "# View\n",
        "display(Image(app.get_graph().draw_mermaid_png()))"
      ],
      "metadata": {
        "colab": {
          "base_uri": "https://localhost:8080/",
          "height": 308
        },
        "id": "HGAzneBZeN_U",
        "outputId": "94880606-71fb-4178-e546-9e0e0d2d530b"
      },
      "execution_count": null,
      "outputs": [
        {
          "output_type": "display_data",
          "data": {
            "image/jpeg": "[encoded data removed]",
            "text/plain": [
              "<IPython.core.display.Image object>"
            ]
          },
          "metadata": {}
        }
      ]
    },
    {
      "cell_type": "code",
      "source": [
        "from langchain_core.messages import HumanMessage\n",
        "# Input\n",
        "input_message = {'messages':HumanMessage(content=\"Hello, I am Aritra , from Kolkata\")}\n",
        "\n",
        "# Thread\n",
        "thread = {\"configurable\": {\"thread_id\": \"1\"}}\n",
        "\n",
        "# Run the graph until the first interruption\n",
        "for event in app.stream(input_message, thread, stream_mode=\"values\"):\n",
        "    print(event[\"messages\"][-1].pretty_print())"
      ],
      "metadata": {
        "colab": {
          "base_uri": "https://localhost:8080/"
        },
        "id": "BoQqnivrfZZr",
        "outputId": "7dd5fa9d-e2db-4d38-e44b-372601f640eb"
      },
      "execution_count": null,
      "outputs": [
        {
          "output_type": "stream",
          "name": "stdout",
          "text": [
            "================================\u001b[1m Human Message \u001b[0m=================================\n",
            "\n",
            "Hello, I am Aritra , from Kolkata\n",
            "None\n",
            "---> Starting Agent----->\n",
            "==================================\u001b[1m Ai Message \u001b[0m==================================\n",
            "\n",
            "Hello Aritra! How can I assist you today?\n",
            "None\n"
          ]
        }
      ]
    },
    {
      "cell_type": "code",
      "source": [
        "# Input\n",
        "input_message = {'messages':HumanMessage(content=\"Sorry where I am from?\")}\n",
        "\n",
        "# Thread\n",
        "thread = {\"configurable\": {\"thread_id\": \"1\"}}\n",
        "\n",
        "# Run the graph until the first interruption\n",
        "for event in app.stream(input_message, thread, stream_mode=\"values\"):\n",
        "    print(event[\"messages\"][-1].pretty_print())"
      ],
      "metadata": {
        "colab": {
          "base_uri": "https://localhost:8080/"
        },
        "id": "YSyhuRDAfx7l",
        "outputId": "e4cee630-dbbc-45e8-ced9-b48f4a3ca2c0"
      },
      "execution_count": null,
      "outputs": [
        {
          "output_type": "stream",
          "name": "stdout",
          "text": [
            "================================\u001b[1m Human Message \u001b[0m=================================\n",
            "\n",
            "Sorry where I am from?\n",
            "None\n",
            "---> Starting Agent----->\n",
            "==================================\u001b[1m Ai Message \u001b[0m==================================\n",
            "\n",
            "You're from Kolkata. If you have any specific questions or topics you'd like to discuss about Kolkata or anything else, feel free to let me know!\n",
            "None\n"
          ]
        }
      ]
    },
    {
      "cell_type": "code",
      "source": [
        "# Input\n",
        "input_message = {'messages':HumanMessage(content=\"What is there weather there?\")}\n",
        "\n",
        "# Thread\n",
        "thread = {\"configurable\": {\"thread_id\": \"1\"}}\n",
        "\n",
        "# Run the graph until the first interruption\n",
        "for event in app.stream(input_message, thread, stream_mode=\"values\"):\n",
        "    print(event[\"messages\"][-1].pretty_print())"
      ],
      "metadata": {
        "colab": {
          "base_uri": "https://localhost:8080/"
        },
        "id": "91xCCfojkUGR",
        "outputId": "ab9957b4-ca05-4022-b4a3-7b9a69ae5ce1"
      },
      "execution_count": null,
      "outputs": [
        {
          "output_type": "stream",
          "name": "stdout",
          "text": [
            "================================\u001b[1m Human Message \u001b[0m=================================\n",
            "\n",
            "What is there weather there?\n",
            "None\n",
            "---> Starting Agent----->\n",
            "==================================\u001b[1m Ai Message \u001b[0m==================================\n",
            "Tool Calls:\n",
            "  tavily_search_results_json (call_p5UbmJU1mFB0kUoDpb3kO2JT)\n",
            " Call ID: call_p5UbmJU1mFB0kUoDpb3kO2JT\n",
            "  Args:\n",
            "    query: Kolkata current weather\n",
            "None\n"
          ]
        }
      ]
    },
    {
      "cell_type": "code",
      "source": [
        "# Run the graph until the first interruption\n",
        "for event in app.stream(None, thread, stream_mode=\"values\"):\n",
        "    print(event[\"messages\"][-1].pretty_print())"
      ],
      "metadata": {
        "colab": {
          "base_uri": "https://localhost:8080/"
        },
        "id": "9GJJNl4WlSkL",
        "outputId": "9c45e86c-29cf-44d7-d188-db45af3f7ded"
      },
      "execution_count": null,
      "outputs": [
        {
          "output_type": "stream",
          "name": "stdout",
          "text": [
            "==================================\u001b[1m Ai Message \u001b[0m==================================\n",
            "Tool Calls:\n",
            "  tavily_search_results_json (call_p5UbmJU1mFB0kUoDpb3kO2JT)\n",
            " Call ID: call_p5UbmJU1mFB0kUoDpb3kO2JT\n",
            "  Args:\n",
            "    query: Kolkata current weather\n",
            "None\n",
            "=================================\u001b[1m Tool Message \u001b[0m=================================\n",
            "Name: tavily_search_results_json\n",
            "\n",
            "[{\"url\": \"https://www.weatherapi.com/\", \"content\": \"{'location': {'name': 'Kolkata', 'region': 'West Bengal', 'country': 'India', 'lat': 22.57, 'lon': 88.37, 'tz_id': 'Asia/Kolkata', 'localtime_epoch': 1725888381, 'localtime': '2024-09-09 18:56'}, 'current': {'last_updated_epoch': 1725887700, 'last_updated': '2024-09-09 18:45', 'temp_c': 29.2, 'temp_f': 84.6, 'is_day': 0, 'condition': {'text': 'Mist', 'icon': '//cdn.weatherapi.com/weather/64x64/night/143.png', 'code': 1030}, 'wind_mph': 6.9, 'wind_kph': 11.2, 'wind_degree': 120, 'wind_dir': 'ESE', 'pressure_mb': 999.0, 'pressure_in': 29.5, 'precip_mm': 0.0, 'precip_in': 0.0, 'humidity': 89, 'cloud': 50, 'feelslike_c': 35.5, 'feelslike_f': 95.9, 'windchill_c': 28.8, 'windchill_f': 83.8, 'heatindex_c': 34.4, 'heatindex_f': 93.9, 'dewpoint_c': 25.3, 'dewpoint_f': 77.6, 'vis_km': 3.5, 'vis_miles': 2.0, 'uv': 1.0, 'gust_mph': 18.5, 'gust_kph': 29.7}}\"}, {\"url\": \"https://www.msn.com/en-in/news/India/kolkata-weather-and-aqi-today-warm-start-at-27-32-c-check-weather-forecast-for-september-9-2024/ar-AA1qdRci\", \"content\": \"The temperature in Kolkata today, on September 9, 2024, is 30.96 \\u00b0C. The day's forecast indicates a minimum and maximum temperature of 27.32 \\u00b0C and 33.79 \\u00b0C, respectively. The relative humidity ...\"}]\n",
            "None\n",
            "---> Starting Agent----->\n",
            "==================================\u001b[1m Ai Message \u001b[0m==================================\n",
            "\n",
            "As of now, the weather in Kolkata is as follows:\n",
            "\n",
            "- **Temperature**: Approximately 29.2°C (84.6°F)\n",
            "- **Condition**: Mist\n",
            "- **Humidity**: 89%\n",
            "- **Wind**: ESE at 11.2 km/h (6.9 mph)\n",
            "- **Feels Like**: 35.5°C (95.9°F)\n",
            "\n",
            "The forecast for today, September 9, 2024, indicates:\n",
            "- **Minimum Temperature**: 27.32°C\n",
            "- **Maximum Temperature**: 33.79°C\n",
            "\n",
            "For more detailed weather updates, you can check [Weather API](https://www.weatherapi.com/) or [MSN Weather](https://www.msn.com/en-in/news/India/kolkata-weather-and-aqi-today-warm-start-at-27-32-c-check-weather-forecast-for-september-9-2024/ar-AA1qdRci).\n",
            "None\n"
          ]
        }
      ]
    },
    {
      "cell_type": "code",
      "source": [
        "# Input\n",
        "input_message = {'messages':HumanMessage(content=\"What are the best foods to explore there?\")}\n",
        "\n",
        "# Run the graph until the first interruption\n",
        "for event in app.stream(input_message, thread, stream_mode=\"values\"):\n",
        "    print(event[\"messages\"][-1].pretty_print())"
      ],
      "metadata": {
        "colab": {
          "base_uri": "https://localhost:8080/"
        },
        "id": "UOUnN4rOlZi4",
        "outputId": "b85f22a1-a8ad-4b2f-bebc-4c477be05300"
      },
      "execution_count": null,
      "outputs": [
        {
          "output_type": "stream",
          "name": "stdout",
          "text": [
            "================================\u001b[1m Human Message \u001b[0m=================================\n",
            "\n",
            "What are the best foods to explore there?\n",
            "None\n",
            "---> Starting Agent----->\n",
            "==================================\u001b[1m Ai Message \u001b[0m==================================\n",
            "\n",
            "Kolkata is famous for its rich culinary heritage and diverse food offerings. Here are some of the best foods to explore in Kolkata:\n",
            "\n",
            "1. **Puchka (Pani Puri)**: A popular street snack consisting of hollow puris filled with spicy tamarind water, chickpeas, and potatoes.\n",
            "\n",
            "2. **Kathi Rolls**: A delicious wrap made with paratha (flatbread) filled with spicy grilled meat or vegetables, often served with chutney.\n",
            "\n",
            "3. **Macher Jhol**: A traditional Bengali fish curry made with fresh fish, vegetables, and a variety of spices, usually served with rice.\n",
            "\n",
            "4. **Shorshe Ilish**: Hilsa fish cooked in mustard sauce, a quintessential Bengali dish enjoyed with steamed rice.\n",
            "\n",
            "5. **Chingri Malai Curry**: A creamy prawn curry made with coconut milk and aromatic spices, served with rice.\n",
            "\n",
            "6. **Biryani**: Kolkata-style biryani is known for its unique flavor, made with marinated meat, rice, and boiled potatoes, often served with raita.\n",
            "\n",
            "7. **Mishti (Sweets)**: Kolkata is famous for its sweets, particularly Rasgulla, Sandesh, and Mishti Doi (sweetened yogurt).\n",
            "\n",
            "8. **Telebhaja**: A variety of deep-fried snacks, including onion fritters, potato fritters, and eggplant fritters, often enjoyed with chutney.\n",
            "\n",
            "9. **Luchi and Cholar Dal**: Fluffy deep-fried bread (luchi) served with spiced Bengal gram dal (cholar dal).\n",
            "\n",
            "10. **Bhelpuri**: A savory snack made with puffed rice, vegetables, and tangy tamarind sauce, offering a delightful mix of flavors.\n",
            "\n",
            "Exploring these dishes will give you a taste of the vibrant food culture in Kolkata!\n",
            "None\n"
          ]
        }
      ]
    },
    {
      "cell_type": "code",
      "source": [
        "# Input\n",
        "input_message = {'messages':HumanMessage(content=\"Tell me about the recent protest happening there?\")}\n",
        "\n",
        "# Run the graph until the first interruption\n",
        "for event in app.stream(input_message, thread, stream_mode=\"values\"):\n",
        "    print(event[\"messages\"][-1].pretty_print())"
      ],
      "metadata": {
        "colab": {
          "base_uri": "https://localhost:8080/"
        },
        "id": "Mr1SQuQLqCog",
        "outputId": "5558ad1f-a5cf-4a36-e4fe-dd644a6f8aec"
      },
      "execution_count": null,
      "outputs": [
        {
          "output_type": "stream",
          "name": "stdout",
          "text": [
            "================================\u001b[1m Human Message \u001b[0m=================================\n",
            "\n",
            "Tell me about the recent protest happening there?\n",
            "None\n",
            "---> Starting Agent----->\n",
            "==================================\u001b[1m Ai Message \u001b[0m==================================\n",
            "Tool Calls:\n",
            "  tavily_search_results_json (call_wCXMvCYl0uLpi6NXZoWfuSpQ)\n",
            " Call ID: call_wCXMvCYl0uLpi6NXZoWfuSpQ\n",
            "  Args:\n",
            "    query: recent protests in Kolkata September 2024\n",
            "None\n"
          ]
        }
      ]
    },
    {
      "cell_type": "code",
      "source": [
        "snapshot = app.get_state(thread)\n",
        "current_message = snapshot.values[\"messages\"][-1]\n",
        "current_message.pretty_print()"
      ],
      "metadata": {
        "colab": {
          "base_uri": "https://localhost:8080/"
        },
        "id": "1QKd81aIqcDp",
        "outputId": "7c22d41d-9d5c-4b16-b407-ab7bae557eb3"
      },
      "execution_count": null,
      "outputs": [
        {
          "output_type": "stream",
          "name": "stdout",
          "text": [
            "==================================\u001b[1m Ai Message \u001b[0m==================================\n",
            "Tool Calls:\n",
            "  tavily_search_results_json (call_wCXMvCYl0uLpi6NXZoWfuSpQ)\n",
            " Call ID: call_wCXMvCYl0uLpi6NXZoWfuSpQ\n",
            "  Args:\n",
            "    query: recent protests in Kolkata September 2024\n"
          ]
        }
      ]
    },
    {
      "cell_type": "code",
      "source": [
        "tool_call_id = current_message.tool_calls[0][\"id\"]\n",
        "tool_call_id"
      ],
      "metadata": {
        "colab": {
          "base_uri": "https://localhost:8080/",
          "height": 35
        },
        "id": "q9IZh9Fnrwwo",
        "outputId": "b611703d-827a-4963-a933-69de4cac7303"
      },
      "execution_count": null,
      "outputs": [
        {
          "output_type": "execute_result",
          "data": {
            "text/plain": [
              "'call_wCXMvCYl0uLpi6NXZoWfuSpQ'"
            ],
            "application/vnd.google.colaboratory.intrinsic+json": {
              "type": "string"
            }
          },
          "metadata": {},
          "execution_count": 27
        }
      ]
    },
    {
      "cell_type": "code",
      "source": [
        "from langchain_core.messages import AIMessage, ToolMessage\n",
        "\n",
        "answer = \"\"\"The protest is about an unfortune incident with a lady Doctor in R.G.Kar hospital in Kolkata, as a protest against the adiministration.\n",
        "People are using a slogan - \"#WeWantJustice\"! \"\"\"\n",
        "new_messages = [\n",
        "    ToolMessage(content=answer, tool_call_id=tool_call_id),\n",
        "    AIMessage(content=answer),\n",
        "]"
      ],
      "metadata": {
        "id": "UQ9sijmgqsCK"
      },
      "execution_count": 37,
      "outputs": []
    },
    {
      "cell_type": "code",
      "source": [
        "app.update_state(\n",
        "    thread,\n",
        "    {\"messages\": new_messages},\n",
        ")"
      ],
      "metadata": {
        "colab": {
          "base_uri": "https://localhost:8080/"
        },
        "id": "wXQB-Li5sCHY",
        "outputId": "c2a1fabb-58ac-4460-8c86-af22b78a0aed"
      },
      "execution_count": 38,
      "outputs": [
        {
          "output_type": "execute_result",
          "data": {
            "text/plain": [
              "{'configurable': {'thread_id': '1',\n",
              "  'checkpoint_ns': '',\n",
              "  'checkpoint_id': '1ef6eb0c-dd6d-68a6-8012-b6d0136bdbd4'}}"
            ]
          },
          "metadata": {},
          "execution_count": 38
        }
      ]
    },
    {
      "cell_type": "code",
      "source": [
        "print(app.get_state(thread).values[\"messages\"][-1:])"
      ],
      "metadata": {
        "colab": {
          "base_uri": "https://localhost:8080/"
        },
        "id": "qjb4T23VsJRr",
        "outputId": "b9a6080c-2b07-4f60-bc47-63a23fa5ea62"
      },
      "execution_count": 39,
      "outputs": [
        {
          "output_type": "stream",
          "name": "stdout",
          "text": [
            "[AIMessage(content='The protest is about an unfortune incident with a lady Doctor in R.G.Kar hospital in Kolkata, as a protest against the adiministration.\\nPeople are using a slogan - \"#WeWantJustice\"! ', id='169d57de-7452-4398-8833-a387b7e53e97')]\n"
          ]
        }
      ]
    },
    {
      "cell_type": "code",
      "source": [],
      "metadata": {
        "id": "xdIfpaOLs0Hc"
      },
      "execution_count": null,
      "outputs": []
    }
  ]
}