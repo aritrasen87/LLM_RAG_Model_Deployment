{
  "cells": [
    {
      "cell_type": "code",
      "execution_count": null,
      "metadata": {
        "id": "McOZnZxBgrLW"
      },
      "outputs": [],
      "source": [
        "%%capture --no-stderr\n",
        "!pip install langchain langchain_openai langgraph chromadb langchain_community  --q\n",
        "!apt install libgraphviz-dev\n",
        "!pip install pygraphviz --q"
      ]
    },
    {
      "cell_type": "markdown",
      "metadata": {
        "id": "RUw744Iusl__"
      },
      "source": [
        "### Get the credentials"
      ]
    },
    {
      "cell_type": "code",
      "execution_count": null,
      "metadata": {
        "id": "55O3DBL3gQWZ"
      },
      "outputs": [],
      "source": [
        "from google.colab import userdata\n",
        "import os\n",
        "os.environ[\"OPENAI_API_KEY\"] = userdata.get('OPENAI_KEY')\n",
        "os.environ[\"TAVILY_API_KEY\"] = userdata.get('TAVILY')"
      ]
    },
    {
      "cell_type": "markdown",
      "metadata": {
        "id": "W7snwktkspmX"
      },
      "source": [
        "### Set up LLM"
      ]
    },
    {
      "cell_type": "code",
      "execution_count": null,
      "metadata": {
        "id": "zRcBXfWJhRI4"
      },
      "outputs": [],
      "source": [
        "from langchain_openai import ChatOpenAI\n",
        "\n",
        "model = ChatOpenAI(temperature=0)"
      ]
    },
    {
      "cell_type": "markdown",
      "metadata": {
        "id": "7j62xwzotB_P"
      },
      "source": [
        "### Create tools\n",
        " - Multiply\n",
        " - Search"
      ]
    },
    {
      "cell_type": "code",
      "execution_count": null,
      "metadata": {
        "id": "dm-odDlZjT--"
      },
      "outputs": [],
      "source": [
        "from langchain_core.tools import tool\n",
        "from langchain_community.tools.tavily_search import TavilySearchResults\n",
        "\n",
        "@tool\n",
        "def multiply(first_number: int, second_number: int)->int:\n",
        "    \"\"\"Multiplies two interger together.\"\"\"\n",
        "    return first_number * second_number\n",
        "\n",
        "@tool\n",
        "def search(query: str):\n",
        "    \"\"\"perform web search on the user query\"\"\"\n",
        "    tavily = TavilySearchResults(max_results=1)\n",
        "    result = tavily.invoke(query)\n",
        "    return result"
      ]
    },
    {
      "cell_type": "markdown",
      "metadata": {
        "id": "r1trDKgwtLpO"
      },
      "source": [
        "### Combine the tools and Bind to the LLM"
      ]
    },
    {
      "cell_type": "code",
      "execution_count": null,
      "metadata": {
        "id": "0UkYYtBBjfNm"
      },
      "outputs": [],
      "source": [
        "tools = [search,multiply]"
      ]
    },
    {
      "cell_type": "code",
      "execution_count": null,
      "metadata": {
        "id": "GGiAO6opogHs"
      },
      "outputs": [],
      "source": [
        "tool_map = {tool.name: tool for tool in tools}"
      ]
    },
    {
      "cell_type": "code",
      "execution_count": null,
      "metadata": {
        "colab": {
          "base_uri": "https://localhost:8080/"
        },
        "id": "BITLqG1x0U-4",
        "outputId": "4c106bdc-0571-417d-fe50-b9feb5c82e47"
      },
      "outputs": [
        {
          "output_type": "execute_result",
          "data": {
            "text/plain": [
              "{'search': StructuredTool(name='search', description='perform web search on the user query', args_schema=<class 'pydantic.v1.main.searchSchema'>, func=<function search at 0x7c43202d1120>),\n",
              " 'multiply': StructuredTool(name='multiply', description='Multiplies two interger together.', args_schema=<class 'pydantic.v1.main.multiplySchema'>, func=<function multiply at 0x7c4320304040>)}"
            ]
          },
          "metadata": {},
          "execution_count": 25
        }
      ],
      "source": [
        "tool_map"
      ]
    },
    {
      "cell_type": "code",
      "execution_count": null,
      "metadata": {
        "id": "rkL82Z_3j96F"
      },
      "outputs": [],
      "source": [
        "model_with_tools = model.bind_tools(tools)"
      ]
    },
    {
      "cell_type": "markdown",
      "metadata": {
        "id": "pipkX-PfuTU4"
      },
      "source": [
        "### Checking the tool calling with Specific questions"
      ]
    },
    {
      "cell_type": "code",
      "execution_count": null,
      "metadata": {
        "colab": {
          "base_uri": "https://localhost:8080/"
        },
        "id": "qTy_ISzzqMdR",
        "outputId": "b33b08c0-5b9e-49bd-bef4-33a0a9cc2aab"
      },
      "outputs": [
        {
          "output_type": "stream",
          "name": "stdout",
          "text": [
            "{'id': 'call_8FGBk77R4zEvmqYtfUVXKRJB', 'function': {'arguments': '{\"query\":\"T20 Cricket World Cup winner 2024\"}', 'name': 'search'}, 'type': 'function'}\n"
          ]
        }
      ],
      "source": [
        "res = model_with_tools.invoke('Search from internet and tell me who won the T20 Cricket world cup in 2024?')\n",
        "for i in res.additional_kwargs.get(\"tool_calls\", []):\n",
        "    print(i)"
      ]
    },
    {
      "cell_type": "code",
      "execution_count": null,
      "metadata": {
        "id": "R0KnLQ18QCPe",
        "colab": {
          "base_uri": "https://localhost:8080/"
        },
        "outputId": "53bb72a9-f0e9-436f-dafd-fcf63bd81abc"
      },
      "outputs": [
        {
          "output_type": "execute_result",
          "data": {
            "text/plain": [
              "[{'url': 'https://www.espncricinfo.com/story/t20-world-cup-2024-final-ind-vs-sa-all-you-need-to-know-about-the-final-1441307',\n",
              "  'content': 'While India won the first ever T20 World Cup, in 2007, they are without a World Cup title since 2011 and their last ICC silverware was the 2013 Champions Trophy.They have come close since ...'}]"
            ]
          },
          "metadata": {},
          "execution_count": 28
        }
      ],
      "source": [
        "tool_map[i['function']['name']].invoke(i['function']['arguments'])"
      ]
    },
    {
      "cell_type": "code",
      "execution_count": null,
      "metadata": {
        "colab": {
          "base_uri": "https://localhost:8080/"
        },
        "id": "pqmXQccoqSe1",
        "outputId": "4ad9c843-2fab-4bb8-dcdb-131c269e58c1"
      },
      "outputs": [
        {
          "name": "stdout",
          "output_type": "stream",
          "text": [
            "{'id': 'call_11EhEzTvY4YQP6FVvalazDNh', 'function': {'arguments': '{\"first_number\":24,\"second_number\":365}', 'name': 'multiply'}, 'type': 'function'}\n"
          ]
        }
      ],
      "source": [
        "res = model_with_tools.invoke('What is 24*365')\n",
        "for i in res.additional_kwargs.get(\"tool_calls\", []):\n",
        "    print(i)"
      ]
    },
    {
      "cell_type": "markdown",
      "metadata": {
        "id": "QhfucGTRuYe4"
      },
      "source": [
        "### Graph creation"
      ]
    },
    {
      "cell_type": "code",
      "execution_count": null,
      "metadata": {
        "id": "e22vDf4akJdI"
      },
      "outputs": [],
      "source": [
        "from typing import TypedDict, Annotated, Sequence\n",
        "import operator,json\n",
        "from langchain_core.messages import BaseMessage\n",
        "\n",
        "\n",
        "class AgentState(TypedDict):\n",
        "    messages: Annotated[Sequence[BaseMessage], operator.add]"
      ]
    },
    {
      "cell_type": "code",
      "execution_count": null,
      "metadata": {
        "id": "DRMMO3_fmVU3"
      },
      "outputs": [],
      "source": [
        "def invoke_model(state):\n",
        "    messages = state['messages']\n",
        "    question = messages[-1]   ## Fetching the user question\n",
        "    return {\"messages\":[model_with_tools.invoke(question)]}"
      ]
    },
    {
      "cell_type": "markdown",
      "metadata": {
        "id": "pR_hTKvPudEX"
      },
      "source": [
        "### Bring human in the loop\n",
        "\n",
        "-- Bring human approval for costly tool calls or where we need validation"
      ]
    },
    {
      "cell_type": "code",
      "execution_count": null,
      "metadata": {
        "id": "WOBOK3Ezm3ex"
      },
      "outputs": [],
      "source": [
        "def invoke_tool(state):\n",
        "    tool_calls = state['messages'][-1].additional_kwargs.get(\"tool_calls\", [])\n",
        "    tool_details = None\n",
        "\n",
        "    for tool_call in tool_calls:\n",
        "        tool_details = tool_call\n",
        "\n",
        "    if tool_details is None:\n",
        "        raise Exception(\"No adder input found.\")\n",
        "\n",
        "    print(f'Selected tool: {tool_details.get(\"function\").get(\"name\")}')\n",
        "\n",
        "    if tool_details.get(\"function\").get(\"name\") == \"search\":\n",
        "        response = input(prompt=f\"[y/n] continue with expensive web search?\")\n",
        "        if response == \"n\":\n",
        "            raise ValueError\n",
        "\n",
        "    response = tool_map[tool_details['function']['name']].invoke(json.loads(tool_details.get(\"function\").get(\"arguments\")))\n",
        "    return {\"messages\" : [response]}"
      ]
    },
    {
      "cell_type": "code",
      "execution_count": null,
      "metadata": {
        "id": "sSSjIfFcmc1h"
      },
      "outputs": [],
      "source": [
        "from langgraph.graph import StateGraph,END\n",
        "\n",
        "graph = StateGraph(AgentState) ### StateGraph with AgentState\n",
        "\n",
        "graph.add_node(\"agent\", invoke_model)\n",
        "\n",
        "graph.add_node(\"tool\", invoke_tool)\n",
        "\n",
        "def router(state):\n",
        "    tool_calls = state['messages'][-1].additional_kwargs.get(\"tool_calls\", [])\n",
        "    if len(tool_calls):\n",
        "        return \"tool\"\n",
        "    else:\n",
        "        return \"end\"\n",
        "\n",
        "graph.add_conditional_edges(\"agent\", router, {\n",
        "    \"tool\": \"tool\",\n",
        "    \"end\": END,\n",
        "})\n",
        "\n",
        "graph.add_edge(\"tool\", END)\n",
        "\n",
        "graph.set_entry_point(\"agent\")"
      ]
    },
    {
      "cell_type": "code",
      "execution_count": null,
      "metadata": {
        "id": "yu62shbsnbF8"
      },
      "outputs": [],
      "source": [
        "app = graph.compile()"
      ]
    },
    {
      "cell_type": "code",
      "execution_count": null,
      "metadata": {
        "id": "gVd21fUYjA1b"
      },
      "outputs": [],
      "source": [
        "from IPython.display import Image, display"
      ]
    },
    {
      "cell_type": "code",
      "execution_count": null,
      "metadata": {
        "colab": {
          "base_uri": "https://localhost:8080/",
          "height": 560
        },
        "id": "O9kxG7cLjIj-",
        "outputId": "60a5145f-00e5-49f4-dead-3d28f783ddd5"
      },
      "outputs": [
        {
          "output_type": "display_data",
          "data": {
            "image/png": "[encoded data removed]",
            "text/plain": [
              "<IPython.core.display.Image object>"
            ]
          },
          "metadata": {}
        }
      ],
      "source": [
        "display(Image(app.get_graph().draw_png()))"
      ]
    },
    {
      "cell_type": "markdown",
      "metadata": {
        "id": "37y2RYIsut2_"
      },
      "source": [
        "### Testing with Questions"
      ]
    },
    {
      "cell_type": "code",
      "execution_count": null,
      "metadata": {
        "colab": {
          "base_uri": "https://localhost:8080/"
        },
        "id": "cfH6AFgNnc1-",
        "outputId": "b652534c-beba-4a3f-884e-7115594b6fbc"
      },
      "outputs": [
        {
          "output_type": "stream",
          "name": "stdout",
          "text": [
            "{'messages': [AIMessage(content='', additional_kwargs={'tool_calls': [{'id': 'call_r4Rq0SM8sDtGLx27RsRMTMnr', 'function': {'arguments': '{\"first_number\":24,\"second_number\":365}', 'name': 'multiply'}, 'type': 'function'}]}, response_metadata={'token_usage': {'completion_tokens': 19, 'prompt_tokens': 80, 'total_tokens': 99}, 'model_name': 'gpt-3.5-turbo-0125', 'system_fingerprint': None, 'finish_reason': 'tool_calls', 'logprobs': None}, id='run-84a7d636-006a-4efc-9736-2fdf63414f0d-0', tool_calls=[{'name': 'multiply', 'args': {'first_number': 24, 'second_number': 365}, 'id': 'call_r4Rq0SM8sDtGLx27RsRMTMnr'}], usage_metadata={'input_tokens': 80, 'output_tokens': 19, 'total_tokens': 99})]}\n",
            "----\n",
            "Selected tool: multiply\n",
            "{'messages': [8760]}\n",
            "----\n"
          ]
        }
      ],
      "source": [
        "for s in app.stream({\"messages\": [\"What is 24 * 365?\"]}):\n",
        "    print(list(s.values())[0])\n",
        "    print(\"----\")"
      ]
    },
    {
      "cell_type": "code",
      "execution_count": null,
      "metadata": {
        "colab": {
          "base_uri": "https://localhost:8080/"
        },
        "id": "FgyCMT8KsoxO",
        "outputId": "4afa8ba1-e85f-43e3-ebdc-9ef93e30730b"
      },
      "outputs": [
        {
          "output_type": "stream",
          "name": "stdout",
          "text": [
            "{'messages': [AIMessage(content='', additional_kwargs={'tool_calls': [{'id': 'call_AohcA1zh2ry3XZO8NSr85kJI', 'function': {'arguments': '{\"query\":\"T20 Cricket World Cup winner 2024\"}', 'name': 'search'}, 'type': 'function'}]}, response_metadata={'token_usage': {'completion_tokens': 21, 'prompt_tokens': 85, 'total_tokens': 106}, 'model_name': 'gpt-3.5-turbo-0125', 'system_fingerprint': None, 'finish_reason': 'tool_calls', 'logprobs': None}, id='run-028725ee-97e8-44f9-ac3e-e50387471806-0', tool_calls=[{'name': 'search', 'args': {'query': 'T20 Cricket World Cup winner 2024'}, 'id': 'call_AohcA1zh2ry3XZO8NSr85kJI'}], usage_metadata={'input_tokens': 85, 'output_tokens': 21, 'total_tokens': 106})]}\n",
            "----\n",
            "Selected tool: search\n",
            "[y/n] continue with expensive web search?y\n",
            "{'messages': [[{'url': 'https://www.cnn.com/2024/06/29/sport/india-south-africa-t20-mens-world-cup-final-spt-intl/index.html', 'content': \"India produced a brilliant performance to defeat South Africa in a dramatic men's T20 World Cup final, ending a long 13-year wait for the cricket-obsessed nation since its last World Cup win.\"}]]}\n",
            "----\n"
          ]
        }
      ],
      "source": [
        "for s in app.stream({\"messages\": [\"Who won the T20 Cricket world cup in 2024?\"]}):\n",
        "    print(list(s.values())[0])\n",
        "    print(\"----\")"
      ]
    },
    {
      "cell_type": "code",
      "execution_count": null,
      "metadata": {
        "id": "kMAUIf06Sn7L",
        "colab": {
          "base_uri": "https://localhost:8080/",
          "height": 444
        },
        "outputId": "67c5b204-bee1-4b1a-ddf8-bdd9d2c50703"
      },
      "outputs": [
        {
          "name": "stdout",
          "output_type": "stream",
          "text": [
            "{'messages': [AIMessage(content='', additional_kwargs={'tool_calls': [{'id': 'call_Yecz9BpJ6y1S7PLUpvuvkeqT', 'function': {'arguments': '{\"query\":\"T20 Cricket World Cup 2022 winner\"}', 'name': 'search'}, 'type': 'function'}]}, response_metadata={'token_usage': {'completion_tokens': 21, 'prompt_tokens': 85, 'total_tokens': 106}, 'model_name': 'gpt-3.5-turbo-0125', 'system_fingerprint': None, 'finish_reason': 'tool_calls', 'logprobs': None}, id='run-79a65eb5-c2d1-4f39-baf8-cdbd3c42311f-0', tool_calls=[{'name': 'search', 'args': {'query': 'T20 Cricket World Cup 2022 winner'}, 'id': 'call_Yecz9BpJ6y1S7PLUpvuvkeqT'}], usage_metadata={'input_tokens': 85, 'output_tokens': 21, 'total_tokens': 106})]}\n",
            "----\n",
            "Selected tool: search\n",
            "[y/n] continue with expensive web search?n\n"
          ]
        },
        {
          "output_type": "error",
          "ename": "ValueError",
          "evalue": "",
          "traceback": [
            "\u001b[0;31m---------------------------------------------------------------------------\u001b[0m",
            "\u001b[0;31mValueError\u001b[0m                                Traceback (most recent call last)",
            "\u001b[0;32m<ipython-input-37-40bc4bd62d68>\u001b[0m in \u001b[0;36m<cell line: 1>\u001b[0;34m()\u001b[0m\n\u001b[0;32m----> 1\u001b[0;31m \u001b[0;32mfor\u001b[0m \u001b[0ms\u001b[0m \u001b[0;32min\u001b[0m \u001b[0mapp\u001b[0m\u001b[0;34m.\u001b[0m\u001b[0mstream\u001b[0m\u001b[0;34m(\u001b[0m\u001b[0;34m{\u001b[0m\u001b[0;34m\"messages\"\u001b[0m\u001b[0;34m:\u001b[0m \u001b[0;34m[\u001b[0m\u001b[0;34m\"Who won the T20 Cricket world cup in 2022?\"\u001b[0m\u001b[0;34m]\u001b[0m\u001b[0;34m}\u001b[0m\u001b[0;34m)\u001b[0m\u001b[0;34m:\u001b[0m\u001b[0;34m\u001b[0m\u001b[0;34m\u001b[0m\u001b[0m\n\u001b[0m\u001b[1;32m      2\u001b[0m     \u001b[0mprint\u001b[0m\u001b[0;34m(\u001b[0m\u001b[0mlist\u001b[0m\u001b[0;34m(\u001b[0m\u001b[0ms\u001b[0m\u001b[0;34m.\u001b[0m\u001b[0mvalues\u001b[0m\u001b[0;34m(\u001b[0m\u001b[0;34m)\u001b[0m\u001b[0;34m)\u001b[0m\u001b[0;34m[\u001b[0m\u001b[0;36m0\u001b[0m\u001b[0;34m]\u001b[0m\u001b[0;34m)\u001b[0m\u001b[0;34m\u001b[0m\u001b[0;34m\u001b[0m\u001b[0m\n\u001b[1;32m      3\u001b[0m     \u001b[0mprint\u001b[0m\u001b[0;34m(\u001b[0m\u001b[0;34m\"----\"\u001b[0m\u001b[0;34m)\u001b[0m\u001b[0;34m\u001b[0m\u001b[0;34m\u001b[0m\u001b[0m\n",
            "\u001b[0;32m/usr/local/lib/python3.10/dist-packages/langgraph/pregel/__init__.py\u001b[0m in \u001b[0;36mstream\u001b[0;34m(self, input, config, stream_mode, output_keys, input_keys, interrupt_before, interrupt_after, debug)\u001b[0m\n\u001b[1;32m   1071\u001b[0m \u001b[0;34m\u001b[0m\u001b[0m\n\u001b[1;32m   1072\u001b[0m                     \u001b[0;31m# panic on failure or timeout\u001b[0m\u001b[0;34m\u001b[0m\u001b[0;34m\u001b[0m\u001b[0m\n\u001b[0;32m-> 1073\u001b[0;31m                     \u001b[0m_panic_or_proceed\u001b[0m\u001b[0;34m(\u001b[0m\u001b[0mdone\u001b[0m\u001b[0;34m,\u001b[0m \u001b[0minflight\u001b[0m\u001b[0;34m,\u001b[0m \u001b[0mstep\u001b[0m\u001b[0;34m)\u001b[0m\u001b[0;34m\u001b[0m\u001b[0;34m\u001b[0m\u001b[0m\n\u001b[0m\u001b[1;32m   1074\u001b[0m                     \u001b[0;31m# don't keep futures around in memory longer than needed\u001b[0m\u001b[0;34m\u001b[0m\u001b[0;34m\u001b[0m\u001b[0m\n\u001b[1;32m   1075\u001b[0m                     \u001b[0;32mdel\u001b[0m \u001b[0mdone\u001b[0m\u001b[0;34m,\u001b[0m \u001b[0minflight\u001b[0m\u001b[0;34m,\u001b[0m \u001b[0mfutures\u001b[0m\u001b[0;34m\u001b[0m\u001b[0;34m\u001b[0m\u001b[0m\n",
            "\u001b[0;32m/usr/local/lib/python3.10/dist-packages/langgraph/pregel/__init__.py\u001b[0m in \u001b[0;36m_panic_or_proceed\u001b[0;34m(done, inflight, step)\u001b[0m\n\u001b[1;32m   1641\u001b[0m                 \u001b[0minflight\u001b[0m\u001b[0;34m.\u001b[0m\u001b[0mpop\u001b[0m\u001b[0;34m(\u001b[0m\u001b[0;34m)\u001b[0m\u001b[0;34m.\u001b[0m\u001b[0mcancel\u001b[0m\u001b[0;34m(\u001b[0m\u001b[0;34m)\u001b[0m\u001b[0;34m\u001b[0m\u001b[0;34m\u001b[0m\u001b[0m\n\u001b[1;32m   1642\u001b[0m             \u001b[0;31m# raise the exception\u001b[0m\u001b[0;34m\u001b[0m\u001b[0;34m\u001b[0m\u001b[0m\n\u001b[0;32m-> 1643\u001b[0;31m             \u001b[0;32mraise\u001b[0m \u001b[0mexc\u001b[0m\u001b[0;34m\u001b[0m\u001b[0;34m\u001b[0m\u001b[0m\n\u001b[0m\u001b[1;32m   1644\u001b[0m \u001b[0;34m\u001b[0m\u001b[0m\n\u001b[1;32m   1645\u001b[0m     \u001b[0;32mif\u001b[0m \u001b[0minflight\u001b[0m\u001b[0;34m:\u001b[0m\u001b[0;34m\u001b[0m\u001b[0;34m\u001b[0m\u001b[0m\n",
            "\u001b[0;32m/usr/lib/python3.10/concurrent/futures/thread.py\u001b[0m in \u001b[0;36mrun\u001b[0;34m(self)\u001b[0m\n\u001b[1;32m     56\u001b[0m \u001b[0;34m\u001b[0m\u001b[0m\n\u001b[1;32m     57\u001b[0m         \u001b[0;32mtry\u001b[0m\u001b[0;34m:\u001b[0m\u001b[0;34m\u001b[0m\u001b[0;34m\u001b[0m\u001b[0m\n\u001b[0;32m---> 58\u001b[0;31m             \u001b[0mresult\u001b[0m \u001b[0;34m=\u001b[0m \u001b[0mself\u001b[0m\u001b[0;34m.\u001b[0m\u001b[0mfn\u001b[0m\u001b[0;34m(\u001b[0m\u001b[0;34m*\u001b[0m\u001b[0mself\u001b[0m\u001b[0;34m.\u001b[0m\u001b[0margs\u001b[0m\u001b[0;34m,\u001b[0m \u001b[0;34m**\u001b[0m\u001b[0mself\u001b[0m\u001b[0;34m.\u001b[0m\u001b[0mkwargs\u001b[0m\u001b[0;34m)\u001b[0m\u001b[0;34m\u001b[0m\u001b[0;34m\u001b[0m\u001b[0m\n\u001b[0m\u001b[1;32m     59\u001b[0m         \u001b[0;32mexcept\u001b[0m \u001b[0mBaseException\u001b[0m \u001b[0;32mas\u001b[0m \u001b[0mexc\u001b[0m\u001b[0;34m:\u001b[0m\u001b[0;34m\u001b[0m\u001b[0;34m\u001b[0m\u001b[0m\n\u001b[1;32m     60\u001b[0m             \u001b[0mself\u001b[0m\u001b[0;34m.\u001b[0m\u001b[0mfuture\u001b[0m\u001b[0;34m.\u001b[0m\u001b[0mset_exception\u001b[0m\u001b[0;34m(\u001b[0m\u001b[0mexc\u001b[0m\u001b[0;34m)\u001b[0m\u001b[0;34m\u001b[0m\u001b[0;34m\u001b[0m\u001b[0m\n",
            "\u001b[0;32m/usr/local/lib/python3.10/dist-packages/langgraph/pregel/retry.py\u001b[0m in \u001b[0;36mrun_with_retry\u001b[0;34m(task, retry_policy)\u001b[0m\n\u001b[1;32m     70\u001b[0m             \u001b[0mtask\u001b[0m\u001b[0;34m.\u001b[0m\u001b[0mwrites\u001b[0m\u001b[0;34m.\u001b[0m\u001b[0mclear\u001b[0m\u001b[0;34m(\u001b[0m\u001b[0;34m)\u001b[0m\u001b[0;34m\u001b[0m\u001b[0;34m\u001b[0m\u001b[0m\n\u001b[1;32m     71\u001b[0m             \u001b[0;31m# run the task\u001b[0m\u001b[0;34m\u001b[0m\u001b[0;34m\u001b[0m\u001b[0m\n\u001b[0;32m---> 72\u001b[0;31m             \u001b[0mtask\u001b[0m\u001b[0;34m.\u001b[0m\u001b[0mproc\u001b[0m\u001b[0;34m.\u001b[0m\u001b[0minvoke\u001b[0m\u001b[0;34m(\u001b[0m\u001b[0mtask\u001b[0m\u001b[0;34m.\u001b[0m\u001b[0minput\u001b[0m\u001b[0;34m,\u001b[0m \u001b[0mtask\u001b[0m\u001b[0;34m.\u001b[0m\u001b[0mconfig\u001b[0m\u001b[0;34m)\u001b[0m\u001b[0;34m\u001b[0m\u001b[0;34m\u001b[0m\u001b[0m\n\u001b[0m\u001b[1;32m     73\u001b[0m             \u001b[0;31m# if successful, end\u001b[0m\u001b[0;34m\u001b[0m\u001b[0;34m\u001b[0m\u001b[0m\n\u001b[1;32m     74\u001b[0m             \u001b[0;32mbreak\u001b[0m\u001b[0;34m\u001b[0m\u001b[0;34m\u001b[0m\u001b[0m\n",
            "\u001b[0;32m/usr/local/lib/python3.10/dist-packages/langchain_core/runnables/base.py\u001b[0m in \u001b[0;36minvoke\u001b[0;34m(self, input, config, **kwargs)\u001b[0m\n\u001b[1;32m   2501\u001b[0m                 )\n\u001b[1;32m   2502\u001b[0m                 \u001b[0;32mif\u001b[0m \u001b[0mi\u001b[0m \u001b[0;34m==\u001b[0m \u001b[0;36m0\u001b[0m\u001b[0;34m:\u001b[0m\u001b[0;34m\u001b[0m\u001b[0;34m\u001b[0m\u001b[0m\n\u001b[0;32m-> 2503\u001b[0;31m                     \u001b[0minput\u001b[0m \u001b[0;34m=\u001b[0m \u001b[0mstep\u001b[0m\u001b[0;34m.\u001b[0m\u001b[0minvoke\u001b[0m\u001b[0;34m(\u001b[0m\u001b[0minput\u001b[0m\u001b[0;34m,\u001b[0m \u001b[0mconfig\u001b[0m\u001b[0;34m,\u001b[0m \u001b[0;34m**\u001b[0m\u001b[0mkwargs\u001b[0m\u001b[0;34m)\u001b[0m\u001b[0;34m\u001b[0m\u001b[0;34m\u001b[0m\u001b[0m\n\u001b[0m\u001b[1;32m   2504\u001b[0m                 \u001b[0;32melse\u001b[0m\u001b[0;34m:\u001b[0m\u001b[0;34m\u001b[0m\u001b[0;34m\u001b[0m\u001b[0m\n\u001b[1;32m   2505\u001b[0m                     \u001b[0minput\u001b[0m \u001b[0;34m=\u001b[0m \u001b[0mstep\u001b[0m\u001b[0;34m.\u001b[0m\u001b[0minvoke\u001b[0m\u001b[0;34m(\u001b[0m\u001b[0minput\u001b[0m\u001b[0;34m,\u001b[0m \u001b[0mconfig\u001b[0m\u001b[0;34m)\u001b[0m\u001b[0;34m\u001b[0m\u001b[0;34m\u001b[0m\u001b[0m\n",
            "\u001b[0;32m/usr/local/lib/python3.10/dist-packages/langgraph/utils.py\u001b[0m in \u001b[0;36minvoke\u001b[0;34m(self, input, config, **kwargs)\u001b[0m\n\u001b[1;32m     93\u001b[0m             \u001b[0;32mif\u001b[0m \u001b[0maccepts_config\u001b[0m\u001b[0;34m(\u001b[0m\u001b[0mself\u001b[0m\u001b[0;34m.\u001b[0m\u001b[0mfunc\u001b[0m\u001b[0;34m)\u001b[0m\u001b[0;34m:\u001b[0m\u001b[0;34m\u001b[0m\u001b[0;34m\u001b[0m\u001b[0m\n\u001b[1;32m     94\u001b[0m                 \u001b[0mkwargs\u001b[0m\u001b[0;34m[\u001b[0m\u001b[0;34m\"config\"\u001b[0m\u001b[0;34m]\u001b[0m \u001b[0;34m=\u001b[0m \u001b[0mconfig\u001b[0m\u001b[0;34m\u001b[0m\u001b[0;34m\u001b[0m\u001b[0m\n\u001b[0;32m---> 95\u001b[0;31m             \u001b[0mret\u001b[0m \u001b[0;34m=\u001b[0m \u001b[0mcontext\u001b[0m\u001b[0;34m.\u001b[0m\u001b[0mrun\u001b[0m\u001b[0;34m(\u001b[0m\u001b[0mself\u001b[0m\u001b[0;34m.\u001b[0m\u001b[0mfunc\u001b[0m\u001b[0;34m,\u001b[0m \u001b[0minput\u001b[0m\u001b[0;34m,\u001b[0m \u001b[0;34m**\u001b[0m\u001b[0mkwargs\u001b[0m\u001b[0;34m)\u001b[0m\u001b[0;34m\u001b[0m\u001b[0;34m\u001b[0m\u001b[0m\n\u001b[0m\u001b[1;32m     96\u001b[0m         \u001b[0;32mif\u001b[0m \u001b[0misinstance\u001b[0m\u001b[0;34m(\u001b[0m\u001b[0mret\u001b[0m\u001b[0;34m,\u001b[0m \u001b[0mRunnable\u001b[0m\u001b[0;34m)\u001b[0m \u001b[0;32mand\u001b[0m \u001b[0mself\u001b[0m\u001b[0;34m.\u001b[0m\u001b[0mrecurse\u001b[0m\u001b[0;34m:\u001b[0m\u001b[0;34m\u001b[0m\u001b[0;34m\u001b[0m\u001b[0m\n\u001b[1;32m     97\u001b[0m             \u001b[0;32mreturn\u001b[0m \u001b[0mret\u001b[0m\u001b[0;34m.\u001b[0m\u001b[0minvoke\u001b[0m\u001b[0;34m(\u001b[0m\u001b[0minput\u001b[0m\u001b[0;34m,\u001b[0m \u001b[0mconfig\u001b[0m\u001b[0;34m)\u001b[0m\u001b[0;34m\u001b[0m\u001b[0;34m\u001b[0m\u001b[0m\n",
            "\u001b[0;32m<ipython-input-32-fe265d15fc8f>\u001b[0m in \u001b[0;36minvoke_tool\u001b[0;34m(state)\u001b[0m\n\u001b[1;32m     14\u001b[0m         \u001b[0mresponse\u001b[0m \u001b[0;34m=\u001b[0m \u001b[0minput\u001b[0m\u001b[0;34m(\u001b[0m\u001b[0mprompt\u001b[0m\u001b[0;34m=\u001b[0m\u001b[0;34mf\"[y/n] continue with expensive web search?\"\u001b[0m\u001b[0;34m)\u001b[0m\u001b[0;34m\u001b[0m\u001b[0;34m\u001b[0m\u001b[0m\n\u001b[1;32m     15\u001b[0m         \u001b[0;32mif\u001b[0m \u001b[0mresponse\u001b[0m \u001b[0;34m==\u001b[0m \u001b[0;34m\"n\"\u001b[0m\u001b[0;34m:\u001b[0m\u001b[0;34m\u001b[0m\u001b[0;34m\u001b[0m\u001b[0m\n\u001b[0;32m---> 16\u001b[0;31m             \u001b[0;32mraise\u001b[0m \u001b[0mValueError\u001b[0m\u001b[0;34m\u001b[0m\u001b[0;34m\u001b[0m\u001b[0m\n\u001b[0m\u001b[1;32m     17\u001b[0m \u001b[0;34m\u001b[0m\u001b[0m\n\u001b[1;32m     18\u001b[0m     \u001b[0mresponse\u001b[0m \u001b[0;34m=\u001b[0m \u001b[0mtool_map\u001b[0m\u001b[0;34m[\u001b[0m\u001b[0mtool_details\u001b[0m\u001b[0;34m[\u001b[0m\u001b[0;34m'function'\u001b[0m\u001b[0;34m]\u001b[0m\u001b[0;34m[\u001b[0m\u001b[0;34m'name'\u001b[0m\u001b[0;34m]\u001b[0m\u001b[0;34m]\u001b[0m\u001b[0;34m.\u001b[0m\u001b[0minvoke\u001b[0m\u001b[0;34m(\u001b[0m\u001b[0mjson\u001b[0m\u001b[0;34m.\u001b[0m\u001b[0mloads\u001b[0m\u001b[0;34m(\u001b[0m\u001b[0mtool_details\u001b[0m\u001b[0;34m.\u001b[0m\u001b[0mget\u001b[0m\u001b[0;34m(\u001b[0m\u001b[0;34m\"function\"\u001b[0m\u001b[0;34m)\u001b[0m\u001b[0;34m.\u001b[0m\u001b[0mget\u001b[0m\u001b[0;34m(\u001b[0m\u001b[0;34m\"arguments\"\u001b[0m\u001b[0;34m)\u001b[0m\u001b[0;34m)\u001b[0m\u001b[0;34m)\u001b[0m\u001b[0;34m\u001b[0m\u001b[0;34m\u001b[0m\u001b[0m\n",
            "\u001b[0;31mValueError\u001b[0m: "
          ]
        }
      ],
      "source": [
        "for s in app.stream({\"messages\": [\"Who won the T20 Cricket world cup in 2022?\"]}):\n",
        "    print(list(s.values())[0])\n",
        "    print(\"----\")"
      ]
    }
  ],
  "metadata": {
    "colab": {
      "provenance": []
    },
    "kernelspec": {
      "display_name": "Python 3",
      "name": "python3"
    },
    "language_info": {
      "name": "python"
    }
  },
  "nbformat": 4,
  "nbformat_minor": 0
}
