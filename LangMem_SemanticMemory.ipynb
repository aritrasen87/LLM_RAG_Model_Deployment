{
  "nbformat": 4,
  "nbformat_minor": 0,
  "metadata": {
    "colab": {
      "provenance": [],
      "include_colab_link": true
    },
    "kernelspec": {
      "name": "python3",
      "display_name": "Python 3"
    },
    "language_info": {
      "name": "python"
    }
  },
  "cells": [
    {
      "cell_type": "markdown",
      "metadata": {
        "id": "view-in-github",
        "colab_type": "text"
      },
      "source": [
        "<a href=\"https://colab.research.google.com/github/aritrasen87/LLM_RAG_Model_Deployment/blob/main/LangMem_SemanticMemory.ipynb\" target=\"_parent\"><img src=\"https://colab.research.google.com/assets/colab-badge.svg\" alt=\"Open In Colab\"/></a>"
      ]
    },
    {
      "cell_type": "markdown",
      "source": [
        "### Installations"
      ],
      "metadata": {
        "id": "RVpG0F2EXPmI"
      }
    },
    {
      "cell_type": "code",
      "execution_count": null,
      "metadata": {
        "id": "flvX05yJvE61",
        "colab": {
          "base_uri": "https://localhost:8080/"
        },
        "outputId": "dbae616d-d60d-46a2-a389-db54c2865c5d"
      },
      "outputs": [
        {
          "output_type": "stream",
          "name": "stdout",
          "text": [
            "\u001b[2K     \u001b[90m━━━━━━━━━━━━━━━━━━━━━━━━━━━━━━━━━━━━━━━━\u001b[0m \u001b[32m43.5/43.5 kB\u001b[0m \u001b[31m2.1 MB/s\u001b[0m eta \u001b[36m0:00:00\u001b[0m\n",
            "\u001b[2K   \u001b[90m━━━━━━━━━━━━━━━━━━━━━━━━━━━━━━━━━━━━━━━━\u001b[0m \u001b[32m66.2/66.2 kB\u001b[0m \u001b[31m2.9 MB/s\u001b[0m eta \u001b[36m0:00:00\u001b[0m\n",
            "\u001b[2K   \u001b[90m━━━━━━━━━━━━━━━━━━━━━━━━━━━━━━━━━━━━━━━━\u001b[0m \u001b[32m148.9/148.9 kB\u001b[0m \u001b[31m7.1 MB/s\u001b[0m eta \u001b[36m0:00:00\u001b[0m\n",
            "\u001b[2K   \u001b[90m━━━━━━━━━━━━━━━━━━━━━━━━━━━━━━━━━━━━━━━━\u001b[0m \u001b[32m62.4/62.4 kB\u001b[0m \u001b[31m4.5 MB/s\u001b[0m eta \u001b[36m0:00:00\u001b[0m\n",
            "\u001b[2K   \u001b[90m━━━━━━━━━━━━━━━━━━━━━━━━━━━━━━━━━━━━━━━━\u001b[0m \u001b[32m42.3/42.3 kB\u001b[0m \u001b[31m2.4 MB/s\u001b[0m eta \u001b[36m0:00:00\u001b[0m\n",
            "\u001b[2K   \u001b[90m━━━━━━━━━━━━━━━━━━━━━━━━━━━━━━━━━━━━━━━━\u001b[0m \u001b[32m47.3/47.3 kB\u001b[0m \u001b[31m3.1 MB/s\u001b[0m eta \u001b[36m0:00:00\u001b[0m\n",
            "\u001b[2K   \u001b[90m━━━━━━━━━━━━━━━━━━━━━━━━━━━━━━━━━━━━━━━━\u001b[0m \u001b[32m194.8/194.8 kB\u001b[0m \u001b[31m13.3 MB/s\u001b[0m eta \u001b[36m0:00:00\u001b[0m\n",
            "\u001b[2K   \u001b[90m━━━━━━━━━━━━━━━━━━━━━━━━━━━━━━━━━━━━━━━━\u001b[0m \u001b[32m245.3/245.3 kB\u001b[0m \u001b[31m15.4 MB/s\u001b[0m eta \u001b[36m0:00:00\u001b[0m\n",
            "\u001b[2K   \u001b[90m━━━━━━━━━━━━━━━━━━━━━━━━━━━━━━━━━━━━━━━━\u001b[0m \u001b[32m223.6/223.6 kB\u001b[0m \u001b[31m13.6 MB/s\u001b[0m eta \u001b[36m0:00:00\u001b[0m\n",
            "\u001b[2K   \u001b[90m━━━━━━━━━━━━━━━━━━━━━━━━━━━━━━━━━━━━━━━━\u001b[0m \u001b[32m1.2/1.2 MB\u001b[0m \u001b[31m40.7 MB/s\u001b[0m eta \u001b[36m0:00:00\u001b[0m\n",
            "\u001b[?25h"
          ]
        }
      ],
      "source": [
        "%pip install -U langmem langgraph --q"
      ]
    },
    {
      "cell_type": "code",
      "source": [
        "from google.colab import userdata\n",
        "import os\n",
        "os.environ['OPENAI_API_KEY'] = userdata.get('OPENAI_KEY')"
      ],
      "metadata": {
        "id": "Py14vd--vyr-"
      },
      "execution_count": null,
      "outputs": []
    },
    {
      "cell_type": "code",
      "source": [
        "from langchain_openai import ChatOpenAI\n",
        "model = ChatOpenAI(model=\"gpt-4o-mini\")"
      ],
      "metadata": {
        "id": "hZh72hmkv3Zu"
      },
      "execution_count": null,
      "outputs": []
    },
    {
      "cell_type": "markdown",
      "source": [
        "### Agents without Memory"
      ],
      "metadata": {
        "id": "Enb3sYVaXUQ5"
      }
    },
    {
      "cell_type": "code",
      "source": [
        "from langgraph.prebuilt import create_react_agent\n",
        "from langgraph.checkpoint.memory import InMemorySaver\n",
        "from langgraph.store.memory import InMemoryStore"
      ],
      "metadata": {
        "id": "ag9bc7C9vPET"
      },
      "execution_count": null,
      "outputs": []
    },
    {
      "cell_type": "code",
      "source": [
        "checkpointer = InMemorySaver()\n",
        "store = InMemoryStore()\n",
        "agent = create_react_agent(model,\n",
        "                           tools=[],\n",
        "                           store=store,\n",
        "                           checkpointer=checkpointer)\n"
      ],
      "metadata": {
        "id": "aVvWv21jv-72"
      },
      "execution_count": null,
      "outputs": []
    },
    {
      "cell_type": "code",
      "source": [
        "def get_agent_response(agent, txt, thread_id):\n",
        "    result_state = agent.invoke({\"messages\": [{\"role\": \"user\", \"content\": txt}]},\n",
        "                                config={\"configurable\": {\"thread_id\": thread_id}})\n",
        "    return result_state[\"messages\"][-1].content"
      ],
      "metadata": {
        "id": "Eft1WlIQwESN"
      },
      "execution_count": null,
      "outputs": []
    },
    {
      "cell_type": "code",
      "source": [
        "response = get_agent_response(agent,\n",
        "                   \"Hi there, I'm planning for a 2 weeks trip for Goa , could you please give a detail day wise travel itenary including flight fare?\",\n",
        "                   \"thread_1\")"
      ],
      "metadata": {
        "id": "Zequ384Bwffv"
      },
      "execution_count": null,
      "outputs": []
    },
    {
      "cell_type": "code",
      "source": [
        "print(response)"
      ],
      "metadata": {
        "colab": {
          "base_uri": "https://localhost:8080/"
        },
        "id": "c07nP-3qxEfX",
        "outputId": "94d11b13-2048-46b5-b106-89c7dbdf155f"
      },
      "execution_count": null,
      "outputs": [
        {
          "output_type": "stream",
          "name": "stdout",
          "text": [
            "Sure! Here's a sample two-week itinerary for a trip to Goa, including suggestions for activities and estimated flight fares. Please note that actual flight fares can vary based on your location, the time of booking, and other factors. Therefore, I won’t provide specific costs but will give you a general idea. \n",
            "\n",
            "### Sample Itinerary for 2 Weeks in Goa\n",
            "\n",
            "#### **Day 1: Arrival in Goa**\n",
            "- **Flight:** Arrive at Goa International Airport (Dabolim Airport).\n",
            "- **Transfer to Hotel:** Check into your hotel in North Goa (e.g., Calangute, Baga).\n",
            "- **Relax:** Spend the evening relaxing on Baga Beach.\n",
            "- **Dinner:** Enjoy dinner at a beachside shack.\n",
            "\n",
            "#### **Day 2: Explore North Goa Beaches**\n",
            "- **Morning:** Breakfast at the hotel.\n",
            "- **Visit:** Anjuna Beach and Vagator Beach.\n",
            "- **Activities:** Water sports (parasailing, jet skiing).\n",
            "- **Lunch:** Beachfront café.\n",
            "- **Evening:** Sunset at Chapora Fort.\n",
            "- **Dinner:** Local Goan cuisine at a restaurant in Anjuna.\n",
            "\n",
            "#### **Day 3: Cultural Exploration**\n",
            "- **Morning:** Visit the Anjuna Flea Market (Wednesday).\n",
            "- **Afternoon:** Lunch and then visit Fort Aguada.\n",
            "- **Evening:** Drive to Candolim Beach for a quieter beach experience.\n",
            "- **Dinner:** Explore a seafood restaurant on Candolim Beach.\n",
            "\n",
            "#### **Day 4: Adventure Day**\n",
            "- **Full Day:** Book an island-hopping tour (Grand Island trip) to enjoy snorkeling and dolphin spotting.\n",
            "- **Lunch:** Provided on the tour.\n",
            "- **Dinner:** Return and eat at local eatery or hotel.\n",
            "\n",
            "#### **Day 5: Historical Goa**\n",
            "- **Morning:** Visit Old Goa - Basilica of Bom Jesus, Se Cathedral.\n",
            "- **Lunch:** Try local cuisine at a nearby restaurant.\n",
            "- **Afternoon:** Visit the Museum of Christian Art.\n",
            "- **Evening:** Explore Panjim and walk along the Mandovi River.\n",
            "- **Dinner:** Enjoy Goan thali in Panjim.\n",
            "\n",
            "#### **Day 6: Wildlife and Nature**\n",
            "- **Full Day Trip:** Visit Dudhsagar Waterfalls (book a jeep safari).\n",
            "- **Lunch:** Picnic near the falls.\n",
            "- **Dinner:** Return to your hotel to rest and dine.\n",
            "\n",
            "#### **Day 7: Beach Hopping**\n",
            "- **Morning:** Head out to Morjim Beach for a quieter vibe.\n",
            "- **Lunch:** Enjoy lunch at a local café.\n",
            "- **Afternoon:** Visit Ashwem Beach.\n",
            "- **Dinner:** Dine at a beach shack at Ashwem.\n",
            "\n",
            "#### **Day 8: Relaxation Day**\n",
            "- **Morning:** Wellness day - book a spa treatment.\n",
            "- **Lunch:** Eat at the hotel or local restaurant.\n",
            "- **Afternoon:** Relax at the beach with a good book.\n",
            "- **Dinner:** Enjoy seafood at a popular restaurant.\n",
            "\n",
            "#### **Day 9: South Goa Exploration**\n",
            "- **Morning:** Depart for South Goa. Check into a hotel at Palolem or Agonda.\n",
            "- **Lunch:** Beachside café.\n",
            "- **Afternoon:** Relax at Palolem Beach; consider renting kayaks.\n",
            "- **Dinner:** Enjoy dinner at the beach.\n",
            "\n",
            "#### **Day 10: Scenic Beauty**\n",
            "- **Day Trip:** Visit Cabo de Rama Fort; enjoy scenic views.\n",
            "- **Lunch:** Local eatery nearby.\n",
            "- **Post-lunch:** Head back to Agonda Beach for relaxation.\n",
            "- **Dinner:** Eat at a beachfront restaurant.\n",
            "\n",
            "#### **Day 11: Spice Plantation Tour**\n",
            "- **Day Trip:** Visit a spice plantation (book in advance).\n",
            "- **Lunch:** Traditional Goan lunch at the plantation.\n",
            "- **Evening:** Return to your hotel and relax.\n",
            "- **Dinner:** Goan food at a popular local restaurant.\n",
            "\n",
            "#### **Day 12: Shopping Day**\n",
            "- **Morning:** Visit local markets for souvenirs in Margao.\n",
            "- **Lunch:** Enjoy local snacks.\n",
            "- **Afternoon:** Visit the famous Colva Beach.\n",
            "- **Dinner:** Return to hotel or eat at a local eatery.\n",
            "\n",
            "#### **Day 13: Leisure & Recap**\n",
            "- **Morning:** Free time to relax, swim, or reflect on your trip.\n",
            "- **Lunch:** Last meal in Goa at your favorite spot.\n",
            "- **Afternoon:** Pack and prepare for departure.\n",
            "- **Dinner:** Farewell dinner at a rooftop restaurant.\n",
            "\n",
            "#### **Day 14: Departure**\n",
            "- **Transfer to Airport:** Check out and head to Dabolim Airport.\n",
            "- **Flight:** Catch your return flight.\n",
            "\n",
            "### Estimated Flight Fare\n",
            "- **Domestic Flights (within India):** Approx. $50 - $150 round trip, depending on your departure city (e.g., Mumbai, Bangalore).\n",
            "- **International Flights:** Approx. $600 - $1200 round trip, depending on where you are flying from and the time of booking.\n",
            "\n",
            "### Additional Tips\n",
            "- **Transportation in Goa:** Consider renting a scooter or car for easy travel between locations.\n",
            "- **Accommodation:** Prices vary, but budget hotels start at around $20 per night, while luxury resorts can go beyond $150.\n",
            "- **Best Time to Visit:** October to March is the best time due to pleasant weather.\n",
            "\n",
            "Feel free to adjust this itinerary according to your interests and the pace at which you wish to travel!\n"
          ]
        }
      ]
    },
    {
      "cell_type": "code",
      "source": [
        "response = get_agent_response(agent,\n",
        "                   \"Give me an approximate cost for the same\",\n",
        "                   \"thread_1\")"
      ],
      "metadata": {
        "id": "iSs-BfQyxdxi"
      },
      "execution_count": null,
      "outputs": []
    },
    {
      "cell_type": "code",
      "source": [
        "print(response)"
      ],
      "metadata": {
        "colab": {
          "base_uri": "https://localhost:8080/"
        },
        "id": "2t5xWQ-PyWij",
        "outputId": "274ccc26-97a8-49ba-d965-f2509ab5d312"
      },
      "execution_count": null,
      "outputs": [
        {
          "output_type": "stream",
          "name": "stdout",
          "text": [
            "Sure! I can provide an estimated cost breakdown for a 2-week trip to Goa. Please note that these costs can vary widely based on the time of booking, personal preferences, and travel styles. The below estimates are for a mid-range travel experience.\n",
            "\n",
            "### Estimated Cost Breakdown for 2 Weeks in Goa\n",
            "\n",
            "#### 1. **Flights**\n",
            "   - **Domestic Flights (Round Trip)**: \n",
            "     - From Mumbai/Bangalore: Approx. **$50 - $150**\n",
            "     - From International Destinations: Approx. **$600 - $1200**\n",
            "   - **Total Estimated Flight Cost**: **$600 - $1200** (for international travel)\n",
            "\n",
            "#### 2. **Accommodation** (14 Nights)\n",
            "   - **Budget Hotels or Guesthouses**: Approx. **$20 - $50 per night** (total **$280 - $700**)\n",
            "   - **Mid-Range Hotels**: Approx. **$50 - $100 per night** (total **$700 - $1400**)\n",
            "   - **Luxury Resorts**: Can go over **$150 per night** (total **$2100** or more)\n",
            "   - **Total Estimated Accommodation Cost**: **$280 - $1400** (depending on your choice)\n",
            "\n",
            "#### 3. **Food and Drinks**\n",
            "   - Approx. **$10 - $30 per day** (eating at local eateries and mid-range restaurants)\n",
            "   - Total for 14 days: **$140 - $420**\n",
            "\n",
            "#### 4. **Transportation**\n",
            "   - **Scooter Rental**: Approx. **$5 - $8 per day** (total **$70 - $112** for 14 days)\n",
            "   - **Car Rental**: Approx. **$25 - $40 per day** (total **$350 - $560**)\n",
            "   - **Public Transport/Taxis**: Approx. **$5 - $10 per day** (total **$70 - $140**)\n",
            "   - **Total Estimated Transportation Cost**: **$70 - $560** (depending on your choice)\n",
            "\n",
            "#### 5. **Activities and Excursions**\n",
            "   - **Water Sports and Tours**: Approx. **$100 - $300** for various activities during your stay (island hopping, spice plantation tour, etc.)\n",
            "   - **Entry Fees & Miscellaneous**: Approx. **$50 - $150**\n",
            "   - **Total Estimated Activities Cost**: **$150 - $450**\n",
            "\n",
            "#### 6. **Miscellaneous** (Shopping, Souvenirs, etc.)\n",
            "   - Approx. **$100 - $300** for shopping and other personal expenses.\n",
            "\n",
            "### **Total Estimated Cost for a 2-Week Trip to Goa**\n",
            "- **For Budget Travelers**: \n",
            "  - **Flights**: $600 - $1200\n",
            "  - **Accommodation**: $280 - $700\n",
            "  - **Food**: $140 - $420\n",
            "  - **Transportation**: $70 - $112\n",
            "  - **Activities**: $150 - $450\n",
            "  - **Miscellaneous**: $100 - $300\n",
            "  - **Total**: **Approx. $1,440 - $3,192**\n",
            "\n",
            "- **For Mid-Range Travelers**: \n",
            "  - **Flights**: $600 - $1200\n",
            "  - **Accommodation**: $700 - $1400\n",
            "  - **Food**: $140 - $420\n",
            "  - **Transportation**: $150 - $560\n",
            "  - **Activities**: $200 - $450\n",
            "  - **Miscellaneous**: $100 - $300\n",
            "  - **Total**: **Approx. $1,930 - $4,430**\n",
            "\n",
            "- **For Luxury Travelers**:\n",
            "  - **Flights**: $600 - $1200\n",
            "  - **Accommodation**: $2100+\n",
            "  - **Food**: $140 - $420\n",
            "  - **Transportation**: $350 - $560\n",
            "  - **Activities**: $300+\n",
            "  - **Miscellaneous**: $100 - $300\n",
            "  - **Total**: **Approx. $3,490 - $4,900 or more.**\n",
            "\n",
            "### Final Notes:\n",
            "- Prices mentioned are approximate and can vary based on various factors such as location, season, and changes in flight prices.\n",
            "- We advise booking flights and accommodations in advance for the best rates, especially during peak tourist seasons.\n",
            "- Always check for current rates and availability to ensure your budget fits your travel plans!\n",
            "\n",
            "Feel free to modify any part of this estimate based on your personal travel preferences!\n"
          ]
        }
      ]
    },
    {
      "cell_type": "code",
      "source": [
        "## running with a different thread\n",
        "response = get_agent_response(agent,\n",
        "                   \"Update the iternary with starting two days in Mumbai\",\n",
        "                   \"thread_2\")\n",
        "print(response)"
      ],
      "metadata": {
        "colab": {
          "base_uri": "https://localhost:8080/"
        },
        "id": "P9QU0w8ryhgY",
        "outputId": "345d0c96-b333-4240-bb94-1068a10b3291"
      },
      "execution_count": null,
      "outputs": [
        {
          "output_type": "stream",
          "name": "stdout",
          "text": [
            "Sure! Here's an updated itinerary that starts with two days in Mumbai, followed by visits to other destinations:\n",
            "\n",
            "### 10-Day Itinerary: Mumbai and Beyond\n",
            "\n",
            "#### Day 1: Arrival in Mumbai\n",
            "- **Morning:** Arrive at Chhatrapati Shivaji Maharaj International Airport. Check into your hotel.\n",
            "- **Afternoon:** Visit the Gateway of India and take a boat ride to Elephanta Island to explore the ancient caves.\n",
            "- **Evening:** Stroll through Colaba Causeway for shopping and enjoy dinner at a local restaurant.\n",
            "\n",
            "#### Day 2: Explore Mumbai\n",
            "- **Morning:** Visit the iconic Chhatrapati Shivaji Maharaj Terminus (CST) and the nearby Victoria Terminus.\n",
            "- **Afternoon:** Explore the Prince of Wales Museum and visit the Kala Ghoda Art Precinct.\n",
            "- **Evening:** Head to Marine Drive for a sunset view, then enjoy dinner at a seaside restaurant.\n",
            "\n",
            "#### Day 3: Mumbai to Goa\n",
            "- **Morning:** Fly from Mumbai to Goa. Check into your hotel.\n",
            "- **Afternoon:** Relax on the beaches of North Goa (e.g., Anjuna or Baga).\n",
            "- **Evening:** Enjoy the vibrant nightlife in Goa.\n",
            "\n",
            "#### Day 4: Explore Goa\n",
            "- **Morning:** Visit the Basilica of Bom Jesus and Se Cathedral in Old Goa.\n",
            "- **Afternoon:** Enjoy water sports or relax on the beach.\n",
            "- **Evening:** Sample Goan cuisine at a local restaurant.\n",
            "\n",
            "#### Day 5: Goa to Jaipur\n",
            "- **Morning:** Fly from Goa to Jaipur. Check into your hotel.\n",
            "- **Afternoon:** Begin exploring Jaipur with a visit to the City Palace and Jantar Mantar.\n",
            "- **Evening:** Dinner at a traditional Rajasthani restaurant.\n",
            "\n",
            "#### Day 6: Jaipur\n",
            "- **Morning:** Visit Amber Fort and take an elephant ride or jeep ride to the fort.\n",
            "- **Afternoon:** Explore the Hawa Mahal and jal Mahal.\n",
            "- **Evening:** Visit local markets for souvenirs and handicrafts.\n",
            "\n",
            "#### Day 7: Jaipur to Agra\n",
            "- **Morning:** Drive to Agra (approx. 4-hour drive).\n",
            "- **Afternoon:** Visit the Taj Mahal and Agra Fort.\n",
            "- **Evening:** Option to visit the Tomb of Itimad-ud-Daulah (Baby Taj) or enjoy a view of the Taj at sunset.\n",
            "\n",
            "#### Day 8: Agra to Delhi\n",
            "- **Morning:** Drive from Agra to Delhi (approx. 3-hour drive).\n",
            "- **Afternoon:** Visit India Gate, President's House, and Rajpath. \n",
            "- **Evening:** Explore Connaught Place for shopping and dining.\n",
            "\n",
            "#### Day 9: Explore Delhi\n",
            "- **Morning:** Visit Qutub Minar and Humayun's Tomb.\n",
            "- **Afternoon:** Explore Chandni Chowk and Jama Masjid. Try local street food.\n",
            "- **Evening:** Option for a cultural show or visit to Akshardham Temple.\n",
            "\n",
            "#### Day 10: Departure\n",
            "- **Morning:** Last-minute shopping or sightseeing in Delhi.\n",
            "- **Afternoon:** Depart from Indira Gandhi International Airport.\n",
            "\n",
            "### Tips:\n",
            "- Adjust flight times as needed based on your arrival and departure schedules.\n",
            "- Make sure to check local COVID-19 guidelines and travel advisories.\n",
            "- Customize the itinerary based on specific interests (e.g., culture, food, nature).\n",
            "\n",
            "This itinerary gives you a taste of the vibrant city life in Mumbai before moving on to the beautiful beaches of Goa, and then exploring the historical gems of Rajasthan and the capital city of Delhi. Enjoy your trip!\n"
          ]
        }
      ]
    },
    {
      "cell_type": "markdown",
      "source": [
        "### Adding Memory into Agents with LangMem\n",
        "\n",
        "It provides tooling to extract important information from conversations, optimize agent behavior through prompt refinement, and maintain long-term memory.\n",
        "\n",
        "![image.png](data:image/png;base64,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)"
      ],
      "metadata": {
        "id": "vPNlon0lzEGT"
      }
    },
    {
      "cell_type": "markdown",
      "source": [
        "Two Tools:\n",
        "- create_manage_memory_tool -- to add , delete , update the memory\n",
        "- create_search_memory_tool -- To fetch relevant content from memory"
      ],
      "metadata": {
        "id": "iXq5Ih8McH_9"
      }
    },
    {
      "cell_type": "code",
      "source": [
        "from langmem import create_manage_memory_tool, create_search_memory_tool\n",
        "\n",
        "store = InMemoryStore(\n",
        "    index={\n",
        "        \"dims\": 1536,\n",
        "        \"embed\": \"openai:text-embedding-3-small\"\n",
        "    }\n",
        ")\n",
        "\n",
        "namespace = (\"agent_memories\",)\n",
        "memory_tools = [\n",
        "    create_manage_memory_tool(namespace),\n",
        "    create_search_memory_tool(namespace)\n",
        "]\n",
        "checkpointer = InMemorySaver()\n",
        "agent = create_react_agent(model,\n",
        "                           tools=memory_tools,\n",
        "                           store=store,\n",
        "                           checkpointer=checkpointer)"
      ],
      "metadata": {
        "colab": {
          "base_uri": "https://localhost:8080/"
        },
        "id": "ppPvORFgyuZy",
        "outputId": "352a8797-096d-4148-c6d9-bb29af83061d"
      },
      "execution_count": null,
      "outputs": [
        {
          "output_type": "stream",
          "name": "stderr",
          "text": [
            "/usr/local/lib/python3.11/dist-packages/langgraph/store/base/embed.py:95: LangChainBetaWarning: The function `init_embeddings` is in beta. It is actively being worked on, so the API may change.\n",
            "  return init_embeddings(embed)\n"
          ]
        }
      ]
    },
    {
      "cell_type": "code",
      "source": [
        "response = get_agent_response(agent,\n",
        "                   \"Hi there, I'm planning for a 2 weeks trip for Goa , could you please give a detail day wise travel itinerary?\",\n",
        "                   \"thread_1\")"
      ],
      "metadata": {
        "id": "YPtByiPE0Igl"
      },
      "execution_count": null,
      "outputs": []
    },
    {
      "cell_type": "code",
      "source": [
        "print(response)"
      ],
      "metadata": {
        "colab": {
          "base_uri": "https://localhost:8080/"
        },
        "id": "L4BlZ5p-0nWn",
        "outputId": "14b67d97-2f8b-4dc0-db98-937a15fe5570"
      },
      "execution_count": null,
      "outputs": [
        {
          "output_type": "stream",
          "name": "stdout",
          "text": [
            "Here's a suggested 2-week itinerary for your trip to Goa:\n",
            "\n",
            "### Day 1: Arrival in Goa\n",
            "- Arrive at Goa's Dabolim Airport.\n",
            "- Check in to your hotel in North Goa (Candolim, Calangute, or Baga).\n",
            "- Spend the evening relaxing at the beach and enjoy local cuisine at a beach shack.\n",
            "\n",
            "### Day 2: Explore North Goa Beaches\n",
            "- Visit Candolim Beach in the morning.\n",
            "- Head to Fort Aguada for panoramic views and some history.\n",
            "- Lunch at a beach shack.\n",
            "- Spend the afternoon at Calangute and Baga Beach.\n",
            "- Enjoy water sports like parasailing or jet skiing.\n",
            "\n",
            "### Day 3: North Goa Sightseeing\n",
            "- Visit the Anjuna Flea Market for shopping.\n",
            "- Explore Vagator Beach and Chapora Fort.\n",
            "- Lunch at a local restaurant.\n",
            "- Enjoy a sunset at Anjuna Beach.\n",
            "- Experience the nightlife at a local club or beach party.\n",
            "\n",
            "### Day 4: Water Sports and Adventure\n",
            "- Spend the day at Water Sports at Calangute Beach.\n",
            "- Enjoy activities like banana boat rides, scuba diving, or windsurfing.\n",
            "- Overnight stay in North Goa.\n",
            "\n",
            "### Day 5: Cultural Exploration\n",
            "- Visit the Basilica of Bom Jesus and Sé Cathedral in Old Goa.\n",
            "- Explore the Museum of Christian Art and the Archaeological Museum.\n",
            "- Lunch at a cafe nearby.\n",
            "- Visit the Latin Quarter (Fontainhas) in Panjim.\n",
            "- Enjoy a river cruise on the Mandovi River in the evening.\n",
            "\n",
            "### Day 6: Chill at South Goa Beaches\n",
            "- Check out from your North Goa hotel and head to South Goa (Palolem or Agonda).\n",
            "- Relax at Palolem Beach and indulge in yoga or Ayurveda.\n",
            "- Evening stroll on the beach and dinner at a seaside restaurant.\n",
            "\n",
            "### Day 7: South Goa Exploration\n",
            "- Visit Cabo de Rama Fort for stunning views.\n",
            "- Spend time at Agonda and Cola Beach.\n",
            "- Relax and enjoy local seafood dishes.\n",
            "\n",
            "### Day 8: Adventure Day\n",
            "- Take a day trip to Dudhsagar Waterfalls (book a Jeep safari).\n",
            "- Enjoy a swim in the natural pools and have a picnic.\n",
            "- Return to your hotel in South Goa.\n",
            "\n",
            "### Day 9: Wildlife Sanctuary\n",
            "- Visit Cotigao Wildlife Sanctuary for trekking and bird watching.\n",
            "- Head to the butterfly beach (via a boat from Palolem).\n",
            "- Enjoy a quiet evening by the beach.\n",
            "\n",
            "### Day 10: Heritage and Culture\n",
            "- Visit the Goa Chitra Museum to learn about traditional Goan culture.\n",
            "- Explore the local markets in Margao.\n",
            "- Spend the evening relaxing at the beach or a local spa.\n",
            "\n",
            "### Day 11: Island Trip\n",
            "- Take a day trip to Grande Island for snorkeling and underwater exploration.\n",
            "- Enjoy a barbecue lunch on the island.\n",
            "- Return to your hotel for the night.\n",
            "\n",
            "### Day 12: Leisure Day\n",
            "- Spend the day at your leisure—relax at the beach, pool, or your hotel.\n",
            "- Enjoy some last-minute shopping for souvenirs.\n",
            "\n",
            "### Day 13: Return to North Goa\n",
            "- Check out from your South Goa hotel and return to North Goa.\n",
            "- Spend the day revisiting favorite spots or exploring new areas.\n",
            "- Enjoy a farewell dinner at a nice restaurant.\n",
            "\n",
            "### Day 14: Departure\n",
            "- Check out from the hotel.\n",
            "- Depending on your flight time, do some last-minute shopping or sightseeing.\n",
            "- Head to Dabolim Airport for departure.\n",
            "\n",
            "### Tips:\n",
            "- Make sure to rent a scooter or car for easier transportation around Goa.\n",
            "- Stay hydrated and use sunscreen, especially during beach days.\n",
            "- Enjoy local dishes such as Goan fish curry, seafood, and bebinca (dessert).\n",
            "\n",
            "Feel free to adjust the itinerary based on your interests and preferences!\n"
          ]
        }
      ]
    },
    {
      "cell_type": "code",
      "source": [
        "response = get_agent_response(agent,\n",
        "                   \"Wish me Happy Journey! Please note down the details for me\",\n",
        "                   \"thread_1\")\n",
        "print(response)"
      ],
      "metadata": {
        "colab": {
          "base_uri": "https://localhost:8080/"
        },
        "id": "dY7ImZFfK81k",
        "outputId": "c06707d5-d997-46f2-e2bd-755d8a9dd8e7"
      },
      "execution_count": null,
      "outputs": [
        {
          "output_type": "stream",
          "name": "stdout",
          "text": [
            "Wishing you a Happy Journey to Goa! 🌴✈️ May your trip be filled with beautiful memories, relaxation, and adventure! \n",
            "\n",
            "I've also noted down your detailed travel plans for reference. Enjoy your trip!\n"
          ]
        }
      ]
    },
    {
      "cell_type": "code",
      "source": [
        "## running with a different thread\n",
        "response = get_agent_response(agent,\n",
        "                   \"Update the itinerary with starting two days in Mumbai and show me daywise itinerary\",\n",
        "                   \"thread_2\")\n",
        "print(response)"
      ],
      "metadata": {
        "colab": {
          "base_uri": "https://localhost:8080/"
        },
        "id": "uV_cf8VX0r8k",
        "outputId": "675e392b-8285-4f29-d7e3-781c1b566fde"
      },
      "execution_count": null,
      "outputs": [
        {
          "output_type": "stream",
          "name": "stdout",
          "text": [
            "Here's the updated day-wise itinerary that starts with two days in Mumbai before heading to Goa:\n",
            "\n",
            "### Day 1: Arrival in Mumbai\n",
            "- Check-in to the hotel\n",
            "- Visit the Gateway of India\n",
            "- Explore Colaba Causeway for shopping\n",
            "- Dinner at a local restaurant\n",
            "\n",
            "### Day 2: Mumbai Sightseeing\n",
            "- Visit Chhatrapati Shivaji Terminus (CST)\n",
            "- Explore the Elephanta Caves\n",
            "- Visit Marine Drive and enjoy the sunset\n",
            "- Try some local street food for dinner\n",
            "\n",
            "### Day 3: Travel to North Goa\n",
            "- Depart from Mumbai to Goa\n",
            "- Check-in to your accommodation in North Goa\n",
            "- Relax at the beach, such as Baga or Anjuna\n",
            "- Enjoy beachside dinner\n",
            "\n",
            "### Day 4: North Goa Beaches\n",
            "- Explore more beaches (Vagator, Calangute)\n",
            "- Water sports activities (parasailing, jet-skiing)\n",
            "- Visit Fort Aguada in the evening\n",
            "- Relax at a beach shack\n",
            "\n",
            "### Day 5: Cultural Exploration in North Goa\n",
            "- Visit the Basilica of Bom Jesus and Se Cathedral\n",
            "- Explore the local markets\n",
            "- Experience Goan cuisine for lunch\n",
            "- Evening at a local music venue or beach party\n",
            "\n",
            "### Day 6: Adventure Activities\n",
            "- Go for a dolphin-watching tour\n",
            "- Visit the spice plantation\n",
            "- Evening leisure time at the beach or hotel\n",
            "\n",
            "### Day 7: Travel to South Goa\n",
            "- Depart for South Goa\n",
            "- Check-in at the accommodation\n",
            "- Visit Colva Beach for relaxation\n",
            "- Dinner at a beach restaurant\n",
            "\n",
            "### Day 8: South Goa Beaches\n",
            "- Explore Palolem Beach and Agonda Beach\n",
            "- Engage in kayaking or yoga sessions\n",
            "- Evening leisure time\n",
            "\n",
            "### Day 9: Wildlife Sanctuary\n",
            "- Visit Cotigao Wildlife Sanctuary\n",
            "- Nature trails and wildlife spotting\n",
            "- Return to accommodation for relaxation\n",
            "\n",
            "### Day 10: Island Trip\n",
            "- Day trip to Grand Island for snorkeling and beach fun\n",
            "- Enjoy a beach barbecue lunch\n",
            "- Return to accommodation in the evening\n",
            "\n",
            "### Day 11: Leisure Day\n",
            "- Relax at the hotel or visit local markets\n",
            "- Optional spa day or yoga session\n",
            "- Farewell dinner at a nice restaurant\n",
            "\n",
            "### Day 12: Departure\n",
            "- Last-minute shopping and sightseeing\n",
            "- Check-out and head to the airport for your departure\n",
            "\n",
            "Feel free to let me know if you'd like to make any adjustments!\n"
          ]
        }
      ]
    },
    {
      "cell_type": "markdown",
      "source": [
        "### User specific Memories -- Increasing Privacy of user specific contents"
      ],
      "metadata": {
        "id": "hrHC_5QOOWCD"
      }
    },
    {
      "cell_type": "code",
      "source": [
        "from langmem import create_manage_memory_tool, create_search_memory_tool\n",
        "\n",
        "store = InMemoryStore(\n",
        "    index={\n",
        "        \"dims\": 1536,\n",
        "        \"embed\": \"openai:text-embedding-3-small\"\n",
        "    }\n",
        ")\n",
        "\n",
        "namespace = (\"agent_memories\", \"{user_id}\")\n",
        "memory_tools = [\n",
        "    create_manage_memory_tool(namespace),\n",
        "    create_search_memory_tool(namespace)\n",
        "]\n",
        "checkpointer = InMemorySaver()\n",
        "\n",
        "agent = create_react_agent(model,\n",
        "                           tools=memory_tools,\n",
        "                           store=store,\n",
        "                           checkpointer=checkpointer)"
      ],
      "metadata": {
        "id": "JHP3XGFiFOKN",
        "colab": {
          "base_uri": "https://localhost:8080/"
        },
        "outputId": "43a9f628-e7ed-426f-a1c8-330990a8b1b1"
      },
      "execution_count": null,
      "outputs": [
        {
          "output_type": "stream",
          "name": "stderr",
          "text": [
            "/usr/local/lib/python3.11/dist-packages/langgraph/store/base/embed.py:95: LangChainBetaWarning: The function `init_embeddings` is in beta. It is actively being worked on, so the API may change.\n",
            "  return init_embeddings(embed)\n"
          ]
        }
      ]
    },
    {
      "cell_type": "code",
      "source": [
        "def get_agent_response(agent, txt, thread_id, user_id):\n",
        "    result_state = agent.invoke({\"messages\": [{\"role\": \"user\", \"content\": txt}]},\n",
        "                                config={\"configurable\": {\"thread_id\": thread_id, \"user_id\": user_id}})\n",
        "    return result_state[\"messages\"][-1].content"
      ],
      "metadata": {
        "id": "DfOIbtZiOpxP"
      },
      "execution_count": null,
      "outputs": []
    },
    {
      "cell_type": "code",
      "source": [
        "response = get_agent_response(agent,\n",
        "                   \"Hi there, I'm planning for a 2 weeks trip for Goa , could you please give a detail day wise travel itenary including flight fare?\",\n",
        "                   \"thread_1\",\n",
        "                    \"user_1\")"
      ],
      "metadata": {
        "id": "gdZWaXYuVL_s"
      },
      "execution_count": null,
      "outputs": []
    },
    {
      "cell_type": "code",
      "source": [
        "print(response)"
      ],
      "metadata": {
        "colab": {
          "base_uri": "https://localhost:8080/"
        },
        "id": "PSaWyed6VQYY",
        "outputId": "9309f77b-5cbe-464a-a5bb-fd7521e1e78f"
      },
      "execution_count": null,
      "outputs": [
        {
          "output_type": "stream",
          "name": "stdout",
          "text": [
            "Sure! Here's a detailed day-wise travel itinerary for a 2-week trip to Goa. I'll include suggestions for activities, places to visit, and an estimated budget for flights. Please note that flight fares can vary based on your location, travel dates, and booking time, so I'll provide a rough estimate.\n",
            "\n",
            "### Day 1: Arrival in Goa\n",
            "- **Flight:** Arrive at Goa International Airport (Dabolim Airport).\n",
            "- **Activities:** Check-in to your hotel, relax, and explore nearby beaches (e.g., Calangute or Baga Beach).\n",
            "- **Overnight stay:** Goa\n",
            "- **Estimated Flight Fare:** $100 - $300 (from major cities in India or nearby countries)\n",
            "\n",
            "### Day 2: North Goa Exploration\n",
            "- **Activities:** Visit Aguada Fort, Candolim Beach, and Sinquerim Beach. Enjoy water sports.\n",
            "- **Overnight stay:** Goa\n",
            "\n",
            "### Day 3: Beach Day\n",
            "- **Activities:** Spend the day at Anjuna Beach, visit the Anjuna Flea Market (Wednesday), and enjoy the sunset.\n",
            "- **Overnight stay:** Goa\n",
            "\n",
            "### Day 4: Cultural Day\n",
            "- **Activities:** Explore Old Goa - visit Basilica of Bom Jesus, Se Cathedral, and Museum of Christian Art. \n",
            "- **Overnight stay:** Goa\n",
            "\n",
            "### Day 5: Dudhsagar Waterfalls\n",
            "- **Activities:** Take a day trip to Dudhsagar Waterfalls (book a jeep safari).\n",
            "- **Overnight stay:** Goa\n",
            "\n",
            "### Day 6: Relaxation\n",
            "- **Activities:** Enjoy a spa day or simply relax at your hotel or a quiet beach (e.g., Mandrem Beach).\n",
            "- **Overnight stay:** Goa\n",
            "\n",
            "### Day 7: South Goa Exploration\n",
            "- **Activities:** Visit Palolem Beach, Agonda Beach, and Cabo de Rama Fort.\n",
            "- **Overnight stay:** Goa\n",
            "\n",
            "### Day 8: Island Trip\n",
            "- **Activities:** Take a day trip to Grande Island for snorkeling and dolphin watching.\n",
            "- **Overnight stay:** Goa\n",
            "\n",
            "### Day 9: Water Activities\n",
            "- **Activities:** Engage in water sports at Colva Beach and relax by the shore.\n",
            "- **Overnight stay:** Goa\n",
            "\n",
            "### Day 10: Spice Plantation Tour\n",
            "- **Activities:** Visit a spice plantation and enjoy a traditional Goan lunch.\n",
            "- **Overnight stay:** Goa\n",
            "\n",
            "### Day 11: Local Markets\n",
            "- **Activities:** Explore local markets like Mapusa Market and indulge in shopping for souvenirs.\n",
            "- **Overnight stay:** Goa\n",
            "\n",
            "### Day 12: Adventure Activities\n",
            "- **Activities:** Try parasailing or jet skiing at Baga Beach.\n",
            "- **Overnight stay:** Goa\n",
            "\n",
            "### Day 13: Wildlife Sanctuary\n",
            "- **Activities:** Visit Bhagwan Mahavir Wildlife Sanctuary and take a guided tour.\n",
            "- **Overnight stay:** Goa\n",
            "\n",
            "### Day 14: Departure\n",
            "- **Activities:** Last-minute shopping or beach time before your flight.\n",
            "- **Flight:** Depart from Goa International Airport.\n",
            "\n",
            "### Estimated Total Budget:\n",
            "- **Accommodation:** $500 - $1,200 (based on choices ranging from budget to luxury)\n",
            "- **Food & Drinks:** $300 - $600\n",
            "- **Activities & Entry Fees:** $200 - $400\n",
            "- **Transport:** $200 - $400 (taxi rentals, etc.)\n",
            "- **Total Estimated Cost:** $1,500 - $3,000 (excluding flights)\n",
            "\n",
            "### Notes:\n",
            "- Ensure to check the weather for your travel dates.\n",
            "- Prices are estimates and may fluctuate based on the season and availability.\n",
            "- For flight and hotel bookings, it's advisable to book in advance to ensure better rates.\n",
            "\n",
            "Let me know if you need any more details or specific recommendations!\n"
          ]
        }
      ]
    },
    {
      "cell_type": "code",
      "source": [
        "get_agent_response(agent,\n",
        "                   \"Wish me happy journey , and keep a note of the itinerary \",\n",
        "                   \"thread_1\",\n",
        "                    \"user_1\")"
      ],
      "metadata": {
        "colab": {
          "base_uri": "https://localhost:8080/",
          "height": 53
        },
        "id": "YK10YjBHVlsr",
        "outputId": "498ccbc1-b2d9-4c44-bd73-a741bc0de75e"
      },
      "execution_count": null,
      "outputs": [
        {
          "output_type": "execute_result",
          "data": {
            "text/plain": [
              "\"Wishing you a **happy journey** to Goa! ✈️🌴 Enjoy your time exploring the beautiful beaches, local culture, and amazing activities.\\n\\nI've noted down your itinerary for your trip. If you need any assistance or information while you're there, feel free to reach out. Safe travels!\""
            ],
            "application/vnd.google.colaboratory.intrinsic+json": {
              "type": "string"
            }
          },
          "metadata": {},
          "execution_count": 11
        }
      ]
    },
    {
      "cell_type": "code",
      "source": [
        "items = store.search((\"agent_memories\",))\n",
        "for item in items:\n",
        "    print(item.namespace, item.value)"
      ],
      "metadata": {
        "colab": {
          "base_uri": "https://localhost:8080/"
        },
        "id": "MTqXjkutVaks",
        "outputId": "2092d89a-67d8-4ebc-c038-02560dceeae8"
      },
      "execution_count": null,
      "outputs": [
        {
          "output_type": "stream",
          "name": "stdout",
          "text": [
            "('agent_memories', 'user_1') {'content': 'Day-wise travel itinerary for a 2-week trip to Goa. Day 1: Arrival, explore nearby beaches. Day 2: North Goa exploration (Aguada Fort, Candolim Beach). Day 3: Anjuna Beach and flea market. Day 4: Old Goa historical sites. Day 5: Dudhsagar Waterfalls trip. Day 6: Relaxation and spa day. Day 7: South Goa (Palolem, Agonda). Day 8: Grande Island trip. Day 9: Water sports at Colva Beach. Day 10: Spice plantation tour. Day 11: Local market explorations (Mapusa). Day 12: Adventure activities at Baga Beach. Day 13: Bhagwan Mahavir Wildlife Sanctuary. Day 14: Departure.'}\n",
            "('agent_memories', 'user_1') {'content': 'User is planning a 2-week trip to Goa with a detailed itinerary including beaches, cultural sites, water activities, and relaxation days. The trip includes visits to North and South Goa, Dudhsagar Waterfalls, and local markets, as well as adventure activities. User wishes for a happy journey.'}\n"
          ]
        }
      ]
    },
    {
      "cell_type": "code",
      "source": [
        "get_agent_response(agent,\n",
        "                   \"Give me a plan to learn GenAI in 6 months, and please keep a note of this plan\",\n",
        "                   \"thread_2\",\n",
        "                    \"user_2\")"
      ],
      "metadata": {
        "colab": {
          "base_uri": "https://localhost:8080/",
          "height": 35
        },
        "id": "vPYGDAjYVcVM",
        "outputId": "e9484fab-8baa-4dbe-81b8-ce33ba8fe27e"
      },
      "execution_count": null,
      "outputs": [
        {
          "output_type": "execute_result",
          "data": {
            "text/plain": [
              "'I have noted down the 6-month plan to learn Generative AI (GenAI). If you need any adjustments or additional information in the future, feel free to ask!'"
            ],
            "application/vnd.google.colaboratory.intrinsic+json": {
              "type": "string"
            }
          },
          "metadata": {},
          "execution_count": 19
        }
      ]
    },
    {
      "cell_type": "code",
      "source": [
        "items = store.search((\"agent_memories\",))\n",
        "for item in items:\n",
        "    print(item.namespace, item.value)"
      ],
      "metadata": {
        "colab": {
          "base_uri": "https://localhost:8080/"
        },
        "id": "q4_R3DSQWOIy",
        "outputId": "35432d41-1f4a-43fb-e1f5-e4d7c9b30cf6"
      },
      "execution_count": null,
      "outputs": [
        {
          "output_type": "stream",
          "name": "stdout",
          "text": [
            "('agent_memories', 'user_1') {'content': 'Day-wise travel itinerary for a 2-week trip to Goa. Day 1: Arrival, explore nearby beaches. Day 2: North Goa exploration (Aguada Fort, Candolim Beach). Day 3: Anjuna Beach and flea market. Day 4: Old Goa historical sites. Day 5: Dudhsagar Waterfalls trip. Day 6: Relaxation and spa day. Day 7: South Goa (Palolem, Agonda). Day 8: Grande Island trip. Day 9: Water sports at Colva Beach. Day 10: Spice plantation tour. Day 11: Local market explorations (Mapusa). Day 12: Adventure activities at Baga Beach. Day 13: Bhagwan Mahavir Wildlife Sanctuary. Day 14: Departure.'}\n",
            "('agent_memories', 'user_1') {'content': 'User is planning a 2-week trip to Goa with a detailed itinerary including beaches, cultural sites, water activities, and relaxation days. The trip includes visits to North and South Goa, Dudhsagar Waterfalls, and local markets, as well as adventure activities. User wishes for a happy journey.'}\n",
            "('agent_memories', 'user_2') {'content': 'Learn Generative AI (GenAI) in 6 months: \\n\\n**Month 1: Foundations of Machine Learning and AI**\\n- **Week 1-2: Introduction to Machine Learning**  \\n  - Study online courses (like Coursera’s \"Machine Learning\" by Andrew Ng).  \\n  - Read introductory books/articles on machine learning.\\n- **Week 3-4: Python for Data Science**  \\n  - Learn Python programming.  \\n  - Familiarize yourself with libraries such as NumPy, pandas, and Matplotlib.\\n\\n**Month 2: Deep Learning Fundamentals**  \\n- **Week 1-2: Neural Networks Basics**  \\n  - Take a deep learning course (like Deep Learning Specialization by Andrew Ng).  \\n  - Understand the architecture of neural networks.  \\n- **Week 3-4: Frameworks and Tools**  \\n  - Get hands-on experience with TensorFlow or PyTorch.  \\n  - Build simple neural networks to classify images (e.g., MNIST dataset).\\n\\n**Month 3: Introduction to Generative Models**  \\n- **Week 1-2: Generative AI Concepts**  \\n  - Study the fundamentals of generative models (VAEs, GANs).  \\n  - Explore famous generative models and their use cases.  \\n- **Week 3-4: Implement Basic GANs**  \\n  - Follow tutorials to implement GANs using TensorFlow or PyTorch.  \\n  - Experiment with training and evaluating GANs on datasets like CIFAR-10.\\n\\n**Month 4: Advanced Generative Techniques**  \\n- **Week 1-2: Variational Autoencoders (VAEs)**  \\n  - Study the theory behind VAEs.  \\n  - Implement a VAE from scratch.  \\n- **Week 3-4: Transformer Models**  \\n  - Learn about the Transformer architecture and its importance in GenAI.  \\n  - Explore models like BERT and GPT, understanding their applications.\\n\\n**Month 5: Practical Applications and Projects**  \\n- **Week 1-2: Text Generation**  \\n  - Implement a text generation application using a pre-trained GPT model.  \\n  - Experiment with fine-tuning on specific datasets.  \\n- **Week 3-4: Image Generation**  \\n  - Create an image generation model using GANs or VAEs.  \\n  - Work on projects like style transfer or super-resolution.\\n\\n**Month 6: Final Projects and Future Trends**  \\n- **Week 1-2: Capstone Project**  \\n  - Choose a substantial project that combines learned skills (e.g., a GenAI application).  \\n  - Document your work and results.  \\n- **Week 3: Explore Ethical Implications**  \\n  - Study the ethical implications of GenAI.  \\n  - Read about biases, fairness, and accountability in AI.  \\n- **Week 4: Future Trends**  \\n  - Investigate the latest trends in Generative AI and research.  \\n  - Set goals for continued learning beyond the 6-month mark.\\n\\n**Additional Resources:**  \\n- **Books:**  \\n  - \"Deep Learning\" by Ian Goodfellow, Yoshua Bengio, and Aaron Courville.  \\n  - \"Hands-On Machine Learning with Scikit-Learn, Keras, and TensorFlow\" by Aurélien Géron.  \\n- **Online Platforms:**  \\n  - Coursera, edX, and Udacity for various online courses.  \\n  - GitHub for exploring open-source projects.'}\n"
          ]
        }
      ]
    },
    {
      "cell_type": "code",
      "source": [],
      "metadata": {
        "id": "L-vKPTRKWd6h"
      },
      "execution_count": null,
      "outputs": []
    }
  ]
}